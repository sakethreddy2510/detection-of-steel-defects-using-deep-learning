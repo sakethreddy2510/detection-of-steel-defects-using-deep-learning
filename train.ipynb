{
 "cells": [
  {
   "cell_type": "code",
   "execution_count": 1,
   "id": "2a384140",
   "metadata": {
    "_cell_guid": "b1076dfc-b9ad-4769-8c92-a6c4dae69d19",
    "_uuid": "8f2839f25d086af736a60e9eeb907d3b93b6e0e5",
    "execution": {
     "iopub.execute_input": "2021-12-04T10:15:35.503970Z",
     "iopub.status.busy": "2021-12-04T10:15:35.502480Z",
     "iopub.status.idle": "2021-12-04T10:15:39.965991Z",
     "shell.execute_reply": "2021-12-04T10:15:39.965456Z",
     "shell.execute_reply.started": "2021-12-04T09:31:45.927501Z"
    },
    "papermill": {
     "duration": 4.474528,
     "end_time": "2021-12-04T10:15:39.966145",
     "exception": false,
     "start_time": "2021-12-04T10:15:35.491617",
     "status": "completed"
    },
    "tags": []
   },
   "outputs": [
    {
     "data": {
      "text/html": [
       "<div>\n",
       "<style scoped>\n",
       "    .dataframe tbody tr th:only-of-type {\n",
       "        vertical-align: middle;\n",
       "    }\n",
       "\n",
       "    .dataframe tbody tr th {\n",
       "        vertical-align: top;\n",
       "    }\n",
       "\n",
       "    .dataframe thead th {\n",
       "        text-align: right;\n",
       "    }\n",
       "</style>\n",
       "<table border=\"1\" class=\"dataframe\">\n",
       "  <thead>\n",
       "    <tr style=\"text-align: right;\">\n",
       "      <th></th>\n",
       "      <th>ImageId</th>\n",
       "      <th>def1</th>\n",
       "      <th>def2</th>\n",
       "      <th>def3</th>\n",
       "      <th>def4</th>\n",
       "      <th>has_defect</th>\n",
       "    </tr>\n",
       "  </thead>\n",
       "  <tbody>\n",
       "    <tr>\n",
       "      <th>0</th>\n",
       "      <td>0002cc93b.jpg</td>\n",
       "      <td>29102 12 29346 24 29602 24 29858 24 30114 24 3...</td>\n",
       "      <td>NaN</td>\n",
       "      <td>NaN</td>\n",
       "      <td>NaN</td>\n",
       "      <td>1</td>\n",
       "    </tr>\n",
       "    <tr>\n",
       "      <th>1</th>\n",
       "      <td>00031f466.jpg</td>\n",
       "      <td>NaN</td>\n",
       "      <td>NaN</td>\n",
       "      <td>NaN</td>\n",
       "      <td>NaN</td>\n",
       "      <td>0</td>\n",
       "    </tr>\n",
       "    <tr>\n",
       "      <th>2</th>\n",
       "      <td>000418bfc.jpg</td>\n",
       "      <td>NaN</td>\n",
       "      <td>NaN</td>\n",
       "      <td>NaN</td>\n",
       "      <td>NaN</td>\n",
       "      <td>0</td>\n",
       "    </tr>\n",
       "    <tr>\n",
       "      <th>3</th>\n",
       "      <td>000789191.jpg</td>\n",
       "      <td>NaN</td>\n",
       "      <td>NaN</td>\n",
       "      <td>NaN</td>\n",
       "      <td>NaN</td>\n",
       "      <td>0</td>\n",
       "    </tr>\n",
       "    <tr>\n",
       "      <th>4</th>\n",
       "      <td>0007a71bf.jpg</td>\n",
       "      <td>NaN</td>\n",
       "      <td>NaN</td>\n",
       "      <td>18661 28 18863 82 19091 110 19347 110 19603 11...</td>\n",
       "      <td>NaN</td>\n",
       "      <td>1</td>\n",
       "    </tr>\n",
       "  </tbody>\n",
       "</table>\n",
       "</div>"
      ],
      "text/plain": [
       "         ImageId                                               def1 def2  \\\n",
       "0  0002cc93b.jpg  29102 12 29346 24 29602 24 29858 24 30114 24 3...  NaN   \n",
       "1  00031f466.jpg                                                NaN  NaN   \n",
       "2  000418bfc.jpg                                                NaN  NaN   \n",
       "3  000789191.jpg                                                NaN  NaN   \n",
       "4  0007a71bf.jpg                                                NaN  NaN   \n",
       "\n",
       "                                                def3 def4  has_defect  \n",
       "0                                                NaN  NaN           1  \n",
       "1                                                NaN  NaN           0  \n",
       "2                                                NaN  NaN           0  \n",
       "3                                                NaN  NaN           0  \n",
       "4  18661 28 18863 82 19091 110 19347 110 19603 11...  NaN           1  "
      ]
     },
     "execution_count": 1,
     "metadata": {},
     "output_type": "execute_result"
    }
   ],
   "source": [
    "import numpy as np, pandas as pd, os, gc\n",
    "import cv2\n",
    "import tensorflow as tf\n",
    "import matplotlib.pyplot as plt, time\n",
    "from itertools import repeat\n",
    "from PIL import Image \n",
    "import warnings\n",
    "warnings.filterwarnings(\"ignore\")\n",
    "\n",
    "train = pd.read_csv('../input/data-pre/new_data.csv')\n",
    "train.head()"
   ]
  },
  {
   "cell_type": "code",
   "execution_count": 2,
   "id": "84de3b55",
   "metadata": {
    "execution": {
     "iopub.execute_input": "2021-12-04T10:15:39.992365Z",
     "iopub.status.busy": "2021-12-04T10:15:39.991699Z",
     "iopub.status.idle": "2021-12-04T10:15:40.944250Z",
     "shell.execute_reply": "2021-12-04T10:15:40.943113Z",
     "shell.execute_reply.started": "2021-12-04T09:31:50.610325Z"
    },
    "papermill": {
     "duration": 0.970665,
     "end_time": "2021-12-04T10:15:40.944395",
     "exception": false,
     "start_time": "2021-12-04T10:15:39.973730",
     "status": "completed"
    },
    "tags": []
   },
   "outputs": [],
   "source": [
    "import keras\n",
    "from tensorflow.keras.utils import Sequence\n",
    "class DataGenerator(Sequence):\n",
    "    def __init__(self, df, batch_size = 16, subset=\"train\", shuffle=False, \n",
    "                 preprocess=None, info={}):\n",
    "        super().__init__()\n",
    "        self.df = df\n",
    "        self.shuffle = shuffle\n",
    "        self.subset = subset\n",
    "        self.batch_size = batch_size\n",
    "        self.preprocess = preprocess\n",
    "        self.info = info\n",
    "        self.data_path = '/kaggle/input/severstal-steel-defect-detection/train_images/'\n",
    "        self.on_epoch_end()\n",
    "\n",
    "    def __len__(self):\n",
    "        return int(np.floor(len(self.df) / self.batch_size))\n",
    "    \n",
    "    def on_epoch_end(self):\n",
    "        self.indexes = np.arange(len(self.df))\n",
    "        if self.shuffle == True:\n",
    "            np.random.shuffle(self.indexes)\n",
    "    \n",
    "    def __getitem__(self, index): \n",
    "        X = np.empty((self.batch_size,128,800,3),dtype=np.float32)\n",
    "        y = np.empty((self.batch_size,128,800,4),dtype=np.int8)\n",
    "        indexes = self.indexes[index*self.batch_size:(index+1)*self.batch_size]\n",
    "        for i,f in enumerate(self.df['ImageId'].iloc[indexes]):\n",
    "            X[i,] = Image.open(self.data_path + f).resize((800,128))\n",
    "            if self.subset == 'train':\n",
    "                    entry = self.df.iloc[indexes[i]]\n",
    "                    y[i,:,:,0] = rle2maskResize(entry['def1'])\n",
    "                    y[i,:,:,1] = rle2maskResize(entry['def2'])\n",
    "                    y[i,:,:,2] = rle2maskResize(entry['def3'])\n",
    "                    y[i,:,:,3] = rle2maskResize(entry['def4'])\n",
    "                    \n",
    "        if self.preprocess!=None: X = self.preprocess(X)\n",
    "        if self.subset == 'train': return X, y\n",
    "        else: return X"
   ]
  },
  {
   "cell_type": "code",
   "execution_count": 3,
   "id": "f4096d32",
   "metadata": {
    "execution": {
     "iopub.execute_input": "2021-12-04T10:15:40.965283Z",
     "iopub.status.busy": "2021-12-04T10:15:40.963662Z",
     "iopub.status.idle": "2021-12-04T10:15:40.965857Z",
     "shell.execute_reply": "2021-12-04T10:15:40.966339Z",
     "shell.execute_reply.started": "2021-12-04T09:31:51.471956Z"
    },
    "papermill": {
     "duration": 0.015736,
     "end_time": "2021-12-04T10:15:40.966485",
     "exception": false,
     "start_time": "2021-12-04T10:15:40.950749",
     "status": "completed"
    },
    "tags": []
   },
   "outputs": [],
   "source": [
    "def rle2maskResize(mask_rle):\n",
    "    #Returns numpy array, 1 - mask, 0 - background\n",
    "    if mask_rle=='' or pd.isnull(mask_rle):\n",
    "        return np.zeros((128,800),dtype=np.uint8)\n",
    "    s = mask_rle.split() #s will be of the format [starting index length starting index length.....]\n",
    "    starts, lengths = [np.asarray(x, dtype=int) for x in (s[0:][::2], s[1:][::2])] #starts : list of staring indices and lengths : lengths of each component\n",
    "    starts -= 1 #convert to zero indexing\n",
    "    ends = starts + lengths #ending pixels\n",
    "    img = np.zeros(256*1600, dtype=np.uint8)\n",
    "    for lo, hi in zip(starts, ends):\n",
    "        img[lo:hi] = 1\n",
    "    return img.reshape(1600,256).T[::2,::2]"
   ]
  },
  {
   "cell_type": "code",
   "execution_count": 4,
   "id": "77d32cec",
   "metadata": {
    "execution": {
     "iopub.execute_input": "2021-12-04T10:15:40.983965Z",
     "iopub.status.busy": "2021-12-04T10:15:40.983255Z",
     "iopub.status.idle": "2021-12-04T10:15:51.797706Z",
     "shell.execute_reply": "2021-12-04T10:15:51.796890Z",
     "shell.execute_reply.started": "2021-12-04T09:31:51.486555Z"
    },
    "papermill": {
     "duration": 10.825092,
     "end_time": "2021-12-04T10:15:51.797833",
     "exception": false,
     "start_time": "2021-12-04T10:15:40.972741",
     "status": "completed"
    },
    "tags": []
   },
   "outputs": [
    {
     "name": "stdout",
     "output_type": "stream",
     "text": [
      "Collecting segmentation-models\r\n",
      "  Downloading segmentation_models-1.0.1-py3-none-any.whl (33 kB)\r\n",
      "Collecting image-classifiers==1.0.0\r\n",
      "  Downloading image_classifiers-1.0.0-py3-none-any.whl (19 kB)\r\n",
      "Collecting efficientnet==1.0.0\r\n",
      "  Downloading efficientnet-1.0.0-py3-none-any.whl (17 kB)\r\n",
      "Collecting keras-applications<=1.0.8,>=1.0.7\r\n",
      "  Downloading Keras_Applications-1.0.8-py3-none-any.whl (50 kB)\r\n",
      "     |████████████████████████████████| 50 kB 2.0 MB/s            \r\n",
      "\u001b[?25hRequirement already satisfied: scikit-image in /opt/conda/lib/python3.7/site-packages (from efficientnet==1.0.0->segmentation-models) (0.18.3)\r\n",
      "Requirement already satisfied: h5py in /opt/conda/lib/python3.7/site-packages (from keras-applications<=1.0.8,>=1.0.7->segmentation-models) (3.1.0)\r\n",
      "Requirement already satisfied: numpy>=1.9.1 in /opt/conda/lib/python3.7/site-packages (from keras-applications<=1.0.8,>=1.0.7->segmentation-models) (1.19.5)\r\n",
      "Requirement already satisfied: cached-property in /opt/conda/lib/python3.7/site-packages (from h5py->keras-applications<=1.0.8,>=1.0.7->segmentation-models) (1.5.2)\r\n",
      "Requirement already satisfied: imageio>=2.3.0 in /opt/conda/lib/python3.7/site-packages (from scikit-image->efficientnet==1.0.0->segmentation-models) (2.9.0)\r\n",
      "Requirement already satisfied: pillow!=7.1.0,!=7.1.1,>=4.3.0 in /opt/conda/lib/python3.7/site-packages (from scikit-image->efficientnet==1.0.0->segmentation-models) (8.2.0)\r\n",
      "Requirement already satisfied: tifffile>=2019.7.26 in /opt/conda/lib/python3.7/site-packages (from scikit-image->efficientnet==1.0.0->segmentation-models) (2021.11.2)\r\n",
      "Requirement already satisfied: PyWavelets>=1.1.1 in /opt/conda/lib/python3.7/site-packages (from scikit-image->efficientnet==1.0.0->segmentation-models) (1.2.0)\r\n",
      "Requirement already satisfied: scipy>=1.0.1 in /opt/conda/lib/python3.7/site-packages (from scikit-image->efficientnet==1.0.0->segmentation-models) (1.7.2)\r\n",
      "Requirement already satisfied: matplotlib!=3.0.0,>=2.0.0 in /opt/conda/lib/python3.7/site-packages (from scikit-image->efficientnet==1.0.0->segmentation-models) (3.5.0)\r\n",
      "Requirement already satisfied: networkx>=2.0 in /opt/conda/lib/python3.7/site-packages (from scikit-image->efficientnet==1.0.0->segmentation-models) (2.6.3)\r\n",
      "Requirement already satisfied: setuptools-scm>=4 in /opt/conda/lib/python3.7/site-packages (from matplotlib!=3.0.0,>=2.0.0->scikit-image->efficientnet==1.0.0->segmentation-models) (6.3.2)\r\n",
      "Requirement already satisfied: pyparsing>=2.2.1 in /opt/conda/lib/python3.7/site-packages (from matplotlib!=3.0.0,>=2.0.0->scikit-image->efficientnet==1.0.0->segmentation-models) (3.0.6)\r\n",
      "Requirement already satisfied: kiwisolver>=1.0.1 in /opt/conda/lib/python3.7/site-packages (from matplotlib!=3.0.0,>=2.0.0->scikit-image->efficientnet==1.0.0->segmentation-models) (1.3.2)\r\n",
      "Requirement already satisfied: packaging>=20.0 in /opt/conda/lib/python3.7/site-packages (from matplotlib!=3.0.0,>=2.0.0->scikit-image->efficientnet==1.0.0->segmentation-models) (21.0)\r\n",
      "Requirement already satisfied: cycler>=0.10 in /opt/conda/lib/python3.7/site-packages (from matplotlib!=3.0.0,>=2.0.0->scikit-image->efficientnet==1.0.0->segmentation-models) (0.11.0)\r\n",
      "Requirement already satisfied: python-dateutil>=2.7 in /opt/conda/lib/python3.7/site-packages (from matplotlib!=3.0.0,>=2.0.0->scikit-image->efficientnet==1.0.0->segmentation-models) (2.8.0)\r\n",
      "Requirement already satisfied: fonttools>=4.22.0 in /opt/conda/lib/python3.7/site-packages (from matplotlib!=3.0.0,>=2.0.0->scikit-image->efficientnet==1.0.0->segmentation-models) (4.28.2)\r\n",
      "Requirement already satisfied: six>=1.5 in /opt/conda/lib/python3.7/site-packages (from python-dateutil>=2.7->matplotlib!=3.0.0,>=2.0.0->scikit-image->efficientnet==1.0.0->segmentation-models) (1.16.0)\r\n",
      "Requirement already satisfied: setuptools in /opt/conda/lib/python3.7/site-packages (from setuptools-scm>=4->matplotlib!=3.0.0,>=2.0.0->scikit-image->efficientnet==1.0.0->segmentation-models) (59.1.1)\r\n",
      "Requirement already satisfied: tomli>=1.0.0 in /opt/conda/lib/python3.7/site-packages (from setuptools-scm>=4->matplotlib!=3.0.0,>=2.0.0->scikit-image->efficientnet==1.0.0->segmentation-models) (1.2.2)\r\n",
      "Installing collected packages: keras-applications, image-classifiers, efficientnet, segmentation-models\r\n",
      "Successfully installed efficientnet-1.0.0 image-classifiers-1.0.0 keras-applications-1.0.8 segmentation-models-1.0.1\r\n",
      "\u001b[33mWARNING: Running pip as the 'root' user can result in broken permissions and conflicting behaviour with the system package manager. It is recommended to use a virtual environment instead: https://pip.pypa.io/warnings/venv\u001b[0m\r\n",
      "Segmentation Models: using `keras` framework.\n"
     ]
    },
    {
     "data": {
      "text/plain": [
       "'tf.keras'"
      ]
     },
     "execution_count": 4,
     "metadata": {},
     "output_type": "execute_result"
    }
   ],
   "source": [
    "! pip install segmentation-models\n",
    "import segmentation_models as sm\n",
    "sm.set_framework('tf.keras')\n",
    "sm.framework()"
   ]
  },
  {
   "cell_type": "code",
   "execution_count": 5,
   "id": "11156b7b",
   "metadata": {
    "execution": {
     "iopub.execute_input": "2021-12-04T10:15:51.825245Z",
     "iopub.status.busy": "2021-12-04T10:15:51.824484Z",
     "iopub.status.idle": "2021-12-04T10:15:51.826961Z",
     "shell.execute_reply": "2021-12-04T10:15:51.826547Z",
     "shell.execute_reply.started": "2021-12-04T09:32:02.082429Z"
    },
    "papermill": {
     "duration": 0.018153,
     "end_time": "2021-12-04T10:15:51.827062",
     "exception": false,
     "start_time": "2021-12-04T10:15:51.808909",
     "status": "completed"
    },
    "tags": []
   },
   "outputs": [],
   "source": [
    "from keras import backend as K\n",
    "# https://www.kaggle.com/xhlulu/severstal-simple-keras-u-net-boilerplate\n",
    "\n",
    "# COMPETITION METRIC\n",
    "def dice_coef(y_true, y_pred):\n",
    "    y_true_f = K.flatten(y_true)\n",
    "    y_pred_f = K.flatten(y_pred)\n",
    "    intersection = K.sum(y_true_f * y_pred_f)\n",
    "    return (2. * intersection + 1.0) / (K.sum(y_true_f) + K.sum(y_pred_f) + 1.0)"
   ]
  },
  {
   "cell_type": "code",
   "execution_count": 6,
   "id": "9beccfd8",
   "metadata": {
    "execution": {
     "iopub.execute_input": "2021-12-04T10:15:51.855944Z",
     "iopub.status.busy": "2021-12-04T10:15:51.855252Z",
     "iopub.status.idle": "2021-12-04T11:56:19.906012Z",
     "shell.execute_reply": "2021-12-04T11:56:19.906478Z",
     "shell.execute_reply.started": "2021-12-04T09:32:02.091866Z"
    },
    "papermill": {
     "duration": 6028.068767,
     "end_time": "2021-12-04T11:56:19.906651",
     "exception": false,
     "start_time": "2021-12-04T10:15:51.837884",
     "status": "completed"
    },
    "tags": []
   },
   "outputs": [
    {
     "name": "stderr",
     "output_type": "stream",
     "text": [
      "2021-12-04 10:15:51.937470: I tensorflow/stream_executor/cuda/cuda_gpu_executor.cc:937] successful NUMA node read from SysFS had negative value (-1), but there must be at least one NUMA node, so returning NUMA node zero\n",
      "2021-12-04 10:15:52.026142: I tensorflow/stream_executor/cuda/cuda_gpu_executor.cc:937] successful NUMA node read from SysFS had negative value (-1), but there must be at least one NUMA node, so returning NUMA node zero\n",
      "2021-12-04 10:15:52.027092: I tensorflow/stream_executor/cuda/cuda_gpu_executor.cc:937] successful NUMA node read from SysFS had negative value (-1), but there must be at least one NUMA node, so returning NUMA node zero\n",
      "2021-12-04 10:15:52.028720: I tensorflow/core/platform/cpu_feature_guard.cc:142] This TensorFlow binary is optimized with oneAPI Deep Neural Network Library (oneDNN) to use the following CPU instructions in performance-critical operations:  AVX2 AVX512F FMA\n",
      "To enable them in other operations, rebuild TensorFlow with the appropriate compiler flags.\n",
      "2021-12-04 10:15:52.029553: I tensorflow/stream_executor/cuda/cuda_gpu_executor.cc:937] successful NUMA node read from SysFS had negative value (-1), but there must be at least one NUMA node, so returning NUMA node zero\n",
      "2021-12-04 10:15:52.030506: I tensorflow/stream_executor/cuda/cuda_gpu_executor.cc:937] successful NUMA node read from SysFS had negative value (-1), but there must be at least one NUMA node, so returning NUMA node zero\n",
      "2021-12-04 10:15:52.031383: I tensorflow/stream_executor/cuda/cuda_gpu_executor.cc:937] successful NUMA node read from SysFS had negative value (-1), but there must be at least one NUMA node, so returning NUMA node zero\n",
      "2021-12-04 10:15:53.691241: I tensorflow/stream_executor/cuda/cuda_gpu_executor.cc:937] successful NUMA node read from SysFS had negative value (-1), but there must be at least one NUMA node, so returning NUMA node zero\n",
      "2021-12-04 10:15:53.692093: I tensorflow/stream_executor/cuda/cuda_gpu_executor.cc:937] successful NUMA node read from SysFS had negative value (-1), but there must be at least one NUMA node, so returning NUMA node zero\n",
      "2021-12-04 10:15:53.692814: I tensorflow/stream_executor/cuda/cuda_gpu_executor.cc:937] successful NUMA node read from SysFS had negative value (-1), but there must be at least one NUMA node, so returning NUMA node zero\n",
      "2021-12-04 10:15:53.693452: I tensorflow/core/common_runtime/gpu/gpu_device.cc:1510] Created device /job:localhost/replica:0/task:0/device:GPU:0 with 15403 MB memory:  -> device: 0, name: Tesla P100-PCIE-16GB, pci bus id: 0000:00:04.0, compute capability: 6.0\n"
     ]
    },
    {
     "name": "stdout",
     "output_type": "stream",
     "text": [
      "Downloading data from https://github.com/qubvel/classification_models/releases/download/0.0.1/resnet34_imagenet_1000_no_top.h5\n",
      "85524480/85521592 [==============================] - 2s 0us/step\n",
      "85532672/85521592 [==============================] - 2s 0us/step\n",
      "\n",
      "\n"
     ]
    },
    {
     "name": "stderr",
     "output_type": "stream",
     "text": [
      "2021-12-04 10:15:58.684026: I tensorflow/compiler/mlir/mlir_graph_optimization_pass.cc:185] None of the MLIR Optimization Passes are enabled (registered 2)\n"
     ]
    },
    {
     "name": "stdout",
     "output_type": "stream",
     "text": [
      "Epoch 1/2\n"
     ]
    },
    {
     "name": "stderr",
     "output_type": "stream",
     "text": [
      "2021-12-04 10:16:03.790120: I tensorflow/stream_executor/cuda/cuda_dnn.cc:369] Loaded cuDNN version 8005\n"
     ]
    },
    {
     "name": "stdout",
     "output_type": "stream",
     "text": [
      "471/471 [==============================] - 236s 477ms/step - loss: 0.0642 - dice_coef: 0.1919 - val_loss: 0.0267 - val_dice_coef: 0.3770\n",
      "Epoch 2/2\n",
      "471/471 [==============================] - 167s 355ms/step - loss: 0.0185 - dice_coef: 0.3687 - val_loss: 0.0222 - val_dice_coef: 0.3375\n",
      "Epoch 1/30\n",
      "471/471 [==============================] - 167s 354ms/step - loss: 0.0157 - dice_coef: 0.4454 - val_loss: 0.0167 - val_dice_coef: 0.5186\n",
      "Epoch 2/30\n",
      "471/471 [==============================] - 168s 357ms/step - loss: 0.0143 - dice_coef: 0.4819 - val_loss: 0.0160 - val_dice_coef: 0.5610\n",
      "Epoch 3/30\n",
      "471/471 [==============================] - 169s 359ms/step - loss: 0.0139 - dice_coef: 0.4900 - val_loss: 0.0174 - val_dice_coef: 0.4552\n",
      "Epoch 4/30\n",
      "471/471 [==============================] - 172s 366ms/step - loss: 0.0128 - dice_coef: 0.5206 - val_loss: 0.0143 - val_dice_coef: 0.5348\n",
      "Epoch 5/30\n",
      "471/471 [==============================] - 171s 362ms/step - loss: 0.0121 - dice_coef: 0.5448 - val_loss: 0.0137 - val_dice_coef: 0.5647\n",
      "Epoch 6/30\n",
      "471/471 [==============================] - 169s 359ms/step - loss: 0.0116 - dice_coef: 0.5604 - val_loss: 0.0152 - val_dice_coef: 0.5716\n",
      "Epoch 7/30\n",
      "471/471 [==============================] - 170s 360ms/step - loss: 0.0112 - dice_coef: 0.5731 - val_loss: 0.0143 - val_dice_coef: 0.5893\n",
      "Epoch 8/30\n",
      "471/471 [==============================] - 168s 356ms/step - loss: 0.0105 - dice_coef: 0.5957 - val_loss: 0.0132 - val_dice_coef: 0.6020\n",
      "Epoch 9/30\n",
      "471/471 [==============================] - 170s 360ms/step - loss: 0.0102 - dice_coef: 0.6079 - val_loss: 0.0137 - val_dice_coef: 0.5477\n",
      "Epoch 10/30\n",
      "471/471 [==============================] - 170s 360ms/step - loss: 0.0098 - dice_coef: 0.6159 - val_loss: 0.0140 - val_dice_coef: 0.6017\n",
      "Epoch 11/30\n",
      "471/471 [==============================] - 172s 366ms/step - loss: 0.0096 - dice_coef: 0.6248 - val_loss: 0.0135 - val_dice_coef: 0.6046\n",
      "Epoch 12/30\n",
      "471/471 [==============================] - 172s 365ms/step - loss: 0.0089 - dice_coef: 0.6488 - val_loss: 0.0139 - val_dice_coef: 0.6009\n",
      "Epoch 13/30\n",
      "471/471 [==============================] - 173s 368ms/step - loss: 0.0089 - dice_coef: 0.6430 - val_loss: 0.0137 - val_dice_coef: 0.6072\n",
      "Epoch 14/30\n",
      "471/471 [==============================] - 172s 366ms/step - loss: 0.0086 - dice_coef: 0.6580 - val_loss: 0.0143 - val_dice_coef: 0.5805\n",
      "Epoch 15/30\n",
      "471/471 [==============================] - 171s 363ms/step - loss: 0.0080 - dice_coef: 0.6770 - val_loss: 0.0126 - val_dice_coef: 0.6049\n",
      "Epoch 16/30\n",
      "471/471 [==============================] - 172s 365ms/step - loss: 0.0077 - dice_coef: 0.6866 - val_loss: 0.0135 - val_dice_coef: 0.6133\n",
      "Epoch 17/30\n",
      "471/471 [==============================] - 172s 365ms/step - loss: 0.0077 - dice_coef: 0.6880 - val_loss: 0.0145 - val_dice_coef: 0.6109\n",
      "Epoch 18/30\n",
      "471/471 [==============================] - 180s 383ms/step - loss: 0.0073 - dice_coef: 0.7021 - val_loss: 0.0145 - val_dice_coef: 0.6296\n",
      "Epoch 19/30\n",
      "471/471 [==============================] - 181s 383ms/step - loss: 0.0072 - dice_coef: 0.7079 - val_loss: 0.0139 - val_dice_coef: 0.6075\n",
      "Epoch 20/30\n",
      "471/471 [==============================] - 177s 376ms/step - loss: 0.0068 - dice_coef: 0.7177 - val_loss: 0.0166 - val_dice_coef: 0.6353\n",
      "Epoch 21/30\n",
      "471/471 [==============================] - 175s 371ms/step - loss: 0.0068 - dice_coef: 0.7204 - val_loss: 0.0144 - val_dice_coef: 0.6352\n",
      "Epoch 22/30\n",
      "471/471 [==============================] - 176s 373ms/step - loss: 0.0066 - dice_coef: 0.7286 - val_loss: 0.0156 - val_dice_coef: 0.6419\n",
      "Epoch 23/30\n",
      "471/471 [==============================] - 174s 370ms/step - loss: 0.0062 - dice_coef: 0.7447 - val_loss: 0.0147 - val_dice_coef: 0.6412\n",
      "Epoch 24/30\n",
      "471/471 [==============================] - 173s 366ms/step - loss: 0.0060 - dice_coef: 0.7499 - val_loss: 0.0158 - val_dice_coef: 0.6367\n",
      "Epoch 25/30\n",
      "471/471 [==============================] - 173s 366ms/step - loss: 0.0060 - dice_coef: 0.7474 - val_loss: 0.0151 - val_dice_coef: 0.6368\n",
      "Epoch 26/30\n",
      "471/471 [==============================] - 175s 372ms/step - loss: 0.0059 - dice_coef: 0.7525 - val_loss: 0.0153 - val_dice_coef: 0.6484\n",
      "Epoch 27/30\n",
      "471/471 [==============================] - 177s 375ms/step - loss: 0.0057 - dice_coef: 0.7627 - val_loss: 0.0143 - val_dice_coef: 0.6327\n",
      "Epoch 28/30\n",
      "471/471 [==============================] - 175s 372ms/step - loss: 0.0053 - dice_coef: 0.7771 - val_loss: 0.0156 - val_dice_coef: 0.6538\n",
      "Epoch 29/30\n",
      "471/471 [==============================] - 172s 365ms/step - loss: 0.0053 - dice_coef: 0.7783 - val_loss: 0.0184 - val_dice_coef: 0.5675\n",
      "Epoch 30/30\n",
      "471/471 [==============================] - 173s 366ms/step - loss: 0.0058 - dice_coef: 0.7595 - val_loss: 0.0162 - val_dice_coef: 0.6400\n"
     ]
    }
   ],
   "source": [
    "from segmentation_models.utils import set_trainable\n",
    "preprocess = sm.get_preprocessing('resnet34') # for resnet, img = (img-110.0)/1.0\n",
    "model = sm.Unet('resnet34', input_shape=(128, 800, 3), classes=4, activation='sigmoid',encoder_weights='imagenet',encoder_freeze=True)#transfer learning,#freeze encoders\n",
    "model.compile(optimizer='adam', loss='binary_crossentropy', metrics=[dice_coef])\n",
    "\n",
    "# TRAIN AND VALIDATE MODEL\n",
    "idx1 = int(0.6*len(train));print()\n",
    "idx2 = int(0.8*len(train));print()\n",
    "train_batches = DataGenerator(train.iloc[:idx1],shuffle=True,preprocess=preprocess)\n",
    "valid_batches = DataGenerator(train.iloc[idx1:idx2],preprocess=preprocess)\n",
    "\n",
    "#train decoder weights inorder to avoid the decoder from affecting the per-trained encoder for 3 epochs\n",
    "history = model.fit_generator(train_batches, validation_data = valid_batches, epochs = 2, verbose=1)\n",
    "set_trainable(model, recompile=False)\n",
    "#model.compile(optimizer='adam', loss='binary_crossentropy', metrics=[dice_coef])\n",
    "\n",
    "history = model.fit_generator(train_batches, validation_data = valid_batches, epochs = 30, verbose=1)"
   ]
  },
  {
   "cell_type": "code",
   "execution_count": 7,
   "id": "2c90a97f",
   "metadata": {
    "execution": {
     "iopub.execute_input": "2021-12-04T11:56:28.112765Z",
     "iopub.status.busy": "2021-12-04T11:56:28.091045Z",
     "iopub.status.idle": "2021-12-04T11:56:28.841764Z",
     "shell.execute_reply": "2021-12-04T11:56:28.842238Z",
     "shell.execute_reply.started": "2021-12-04T10:15:12.007153Z"
    },
    "papermill": {
     "duration": 4.994046,
     "end_time": "2021-12-04T11:56:28.842421",
     "exception": false,
     "start_time": "2021-12-04T11:56:23.848375",
     "status": "completed"
    },
    "tags": []
   },
   "outputs": [
    {
     "data": {
      "image/png": "[encoded data removed]",
      "text/plain": [
       "<Figure size 1080x360 with 1 Axes>"
      ]
     },
     "metadata": {
      "needs_background": "light"
     },
     "output_type": "display_data"
    }
   ],
   "source": [
    "model.save('UNET.h5')\n",
    "# PLOT TRAINING\n",
    "plt.figure(figsize=(15,5))\n",
    "plt.plot(range(history.epoch[-1]+1),history.history['val_dice_coef'],label='val_dice_coef')\n",
    "plt.plot(range(history.epoch[-1]+1),history.history['dice_coef'],label='trn_dice_coef')\n",
    "plt.title('Training Accuracy'); plt.xlabel('Epoch'); plt.ylabel('Dice_coef');plt.legend(); \n",
    "plt.show()"
   ]
  }
 ],
 "metadata": {
  "kernelspec": {
   "display_name": "Python 3",
   "language": "python",
   "name": "python3"
  },
  "language_info": {
   "codemirror_mode": {
    "name": "ipython",
    "version": 3
   },
   "file_extension": ".py",
   "mimetype": "text/x-python",
   "name": "python",
   "nbconvert_exporter": "python",
   "pygments_lexer": "ipython3",
   "version": "3.7.12"
  },
  "papermill": {
   "default_parameters": {},
   "duration": 6068.080413,
   "end_time": "2021-12-04T11:56:35.601742",
   "environment_variables": {},
   "exception": null,
   "input_path": "__notebook__.ipynb",
   "output_path": "__notebook__.ipynb",
   "parameters": {},
   "start_time": "2021-12-04T10:15:27.521329",
   "version": "2.3.3"
  }
 },
 "nbformat": 4,
 "nbformat_minor": 5
}
