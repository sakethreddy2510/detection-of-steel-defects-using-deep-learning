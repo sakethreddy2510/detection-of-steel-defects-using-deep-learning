{
 "cells": [
  {
   "cell_type": "code",
   "execution_count": 1,
   "id": "d05dcea8",
   "metadata": {
    "_cell_guid": "b1076dfc-b9ad-4769-8c92-a6c4dae69d19",
    "_uuid": "8f2839f25d086af736a60e9eeb907d3b93b6e0e5",
    "execution": {
     "iopub.execute_input": "2021-12-04T07:44:00.344158Z",
     "iopub.status.busy": "2021-12-04T07:44:00.342986Z",
     "iopub.status.idle": "2021-12-04T07:44:05.954719Z",
     "shell.execute_reply": "2021-12-04T07:44:05.953915Z",
     "shell.execute_reply.started": "2021-12-04T07:23:20.115864Z"
    },
    "papermill": {
     "duration": 5.642662,
     "end_time": "2021-12-04T07:44:05.954918",
     "exception": false,
     "start_time": "2021-12-04T07:44:00.312256",
     "status": "completed"
    },
    "tags": []
   },
   "outputs": [],
   "source": [
    "import numpy as np, pandas as pd, os, gc\n",
    "import cv2\n",
    "import tensorflow as tf\n",
    "import matplotlib.pyplot as plt, time\n",
    "from itertools import repeat\n",
    "from PIL import Image "
   ]
  },
  {
   "cell_type": "code",
   "execution_count": 2,
   "id": "acb6dd74",
   "metadata": {
    "execution": {
     "iopub.execute_input": "2021-12-04T07:44:06.002399Z",
     "iopub.status.busy": "2021-12-04T07:44:06.001382Z",
     "iopub.status.idle": "2021-12-04T07:44:06.011693Z",
     "shell.execute_reply": "2021-12-04T07:44:06.011069Z",
     "shell.execute_reply.started": "2021-12-04T07:23:20.122333Z"
    },
    "papermill": {
     "duration": 0.033781,
     "end_time": "2021-12-04T07:44:06.011850",
     "exception": false,
     "start_time": "2021-12-04T07:44:05.978069",
     "status": "completed"
    },
    "tags": []
   },
   "outputs": [],
   "source": [
    "def rle2maskResize(mask_rle):\n",
    "    #Returns numpy array, 1 - mask, 0 - background\n",
    "    if mask_rle=='' or pd.isnull(mask_rle):\n",
    "        return np.zeros((128,800),dtype=np.uint8)\n",
    "    s = mask_rle.split() #s will be of the format [starting index length starting index length.....]\n",
    "    starts, lengths = [np.asarray(x, dtype=int) for x in (s[0:][::2], s[1:][::2])] #starts : list of staring indices and lengths : lengths of each component\n",
    "    starts -= 1 #convert to zero indexing\n",
    "    ends = starts + lengths #ending pixels\n",
    "    img = np.zeros(256*1600, dtype=np.uint8)\n",
    "    for lo, hi in zip(starts, ends):\n",
    "        img[lo:hi] = 1\n",
    "    return img.reshape(1600,256).T[::2,::2]"
   ]
  },
  {
   "cell_type": "code",
   "execution_count": 3,
   "id": "b8df3bcd",
   "metadata": {
    "execution": {
     "iopub.execute_input": "2021-12-04T07:44:06.055644Z",
     "iopub.status.busy": "2021-12-04T07:44:06.054591Z",
     "iopub.status.idle": "2021-12-04T07:44:06.964320Z",
     "shell.execute_reply": "2021-12-04T07:44:06.963670Z",
     "shell.execute_reply.started": "2021-12-04T07:23:20.137384Z"
    },
    "papermill": {
     "duration": 0.933036,
     "end_time": "2021-12-04T07:44:06.964460",
     "exception": false,
     "start_time": "2021-12-04T07:44:06.031424",
     "status": "completed"
    },
    "tags": []
   },
   "outputs": [],
   "source": [
    "from keras import backend as K\n",
    "# https://www.kaggle.com/xhlulu/severstal-simple-keras-u-net-boilerplate\n",
    "\n",
    "# COMPETITION METRIC\n",
    "def dice_coef(y_true, y_pred):\n",
    "    y_true_f = y_true.flatten()\n",
    "    y_pred_f = y_pred.flatten()\n",
    "    intersection = np.sum(y_true_f * y_pred_f)\n",
    "    return (2. * intersection + 1.0) / (np.sum(y_true_f) + np.sum(y_pred_f) + 1.0)"
   ]
  },
  {
   "cell_type": "code",
   "execution_count": 4,
   "id": "f71349f7",
   "metadata": {
    "execution": {
     "iopub.execute_input": "2021-12-04T07:44:07.016226Z",
     "iopub.status.busy": "2021-12-04T07:44:07.008059Z",
     "iopub.status.idle": "2021-12-04T07:44:19.626646Z",
     "shell.execute_reply": "2021-12-04T07:44:19.627150Z",
     "shell.execute_reply.started": "2021-12-04T07:23:20.858512Z"
    },
    "papermill": {
     "duration": 12.643966,
     "end_time": "2021-12-04T07:44:19.627333",
     "exception": false,
     "start_time": "2021-12-04T07:44:06.983367",
     "status": "completed"
    },
    "tags": []
   },
   "outputs": [
    {
     "name": "stdout",
     "output_type": "stream",
     "text": [
      "Collecting segmentation-models\r\n",
      "  Downloading segmentation_models-1.0.1-py3-none-any.whl (33 kB)\r\n",
      "Collecting efficientnet==1.0.0\r\n",
      "  Downloading efficientnet-1.0.0-py3-none-any.whl (17 kB)\r\n",
      "Collecting keras-applications<=1.0.8,>=1.0.7\r\n",
      "  Downloading Keras_Applications-1.0.8-py3-none-any.whl (50 kB)\r\n",
      "     |████████████████████████████████| 50 kB 2.9 MB/s             \r\n",
      "\u001b[?25hCollecting image-classifiers==1.0.0\r\n",
      "  Downloading image_classifiers-1.0.0-py3-none-any.whl (19 kB)\r\n",
      "Requirement already satisfied: scikit-image in /opt/conda/lib/python3.7/site-packages (from efficientnet==1.0.0->segmentation-models) (0.18.3)\r\n",
      "Requirement already satisfied: h5py in /opt/conda/lib/python3.7/site-packages (from keras-applications<=1.0.8,>=1.0.7->segmentation-models) (3.1.0)\r\n",
      "Requirement already satisfied: numpy>=1.9.1 in /opt/conda/lib/python3.7/site-packages (from keras-applications<=1.0.8,>=1.0.7->segmentation-models) (1.19.5)\r\n",
      "Requirement already satisfied: cached-property in /opt/conda/lib/python3.7/site-packages (from h5py->keras-applications<=1.0.8,>=1.0.7->segmentation-models) (1.5.2)\r\n",
      "Requirement already satisfied: matplotlib!=3.0.0,>=2.0.0 in /opt/conda/lib/python3.7/site-packages (from scikit-image->efficientnet==1.0.0->segmentation-models) (3.5.0)\r\n",
      "Requirement already satisfied: imageio>=2.3.0 in /opt/conda/lib/python3.7/site-packages (from scikit-image->efficientnet==1.0.0->segmentation-models) (2.9.0)\r\n",
      "Requirement already satisfied: PyWavelets>=1.1.1 in /opt/conda/lib/python3.7/site-packages (from scikit-image->efficientnet==1.0.0->segmentation-models) (1.2.0)\r\n",
      "Requirement already satisfied: tifffile>=2019.7.26 in /opt/conda/lib/python3.7/site-packages (from scikit-image->efficientnet==1.0.0->segmentation-models) (2021.11.2)\r\n",
      "Requirement already satisfied: scipy>=1.0.1 in /opt/conda/lib/python3.7/site-packages (from scikit-image->efficientnet==1.0.0->segmentation-models) (1.7.2)\r\n",
      "Requirement already satisfied: networkx>=2.0 in /opt/conda/lib/python3.7/site-packages (from scikit-image->efficientnet==1.0.0->segmentation-models) (2.6.3)\r\n",
      "Requirement already satisfied: pillow!=7.1.0,!=7.1.1,>=4.3.0 in /opt/conda/lib/python3.7/site-packages (from scikit-image->efficientnet==1.0.0->segmentation-models) (8.2.0)\r\n",
      "Requirement already satisfied: setuptools-scm>=4 in /opt/conda/lib/python3.7/site-packages (from matplotlib!=3.0.0,>=2.0.0->scikit-image->efficientnet==1.0.0->segmentation-models) (6.3.2)\r\n",
      "Requirement already satisfied: cycler>=0.10 in /opt/conda/lib/python3.7/site-packages (from matplotlib!=3.0.0,>=2.0.0->scikit-image->efficientnet==1.0.0->segmentation-models) (0.11.0)\r\n",
      "Requirement already satisfied: packaging>=20.0 in /opt/conda/lib/python3.7/site-packages (from matplotlib!=3.0.0,>=2.0.0->scikit-image->efficientnet==1.0.0->segmentation-models) (21.0)\r\n",
      "Requirement already satisfied: python-dateutil>=2.7 in /opt/conda/lib/python3.7/site-packages (from matplotlib!=3.0.0,>=2.0.0->scikit-image->efficientnet==1.0.0->segmentation-models) (2.8.0)\r\n",
      "Requirement already satisfied: pyparsing>=2.2.1 in /opt/conda/lib/python3.7/site-packages (from matplotlib!=3.0.0,>=2.0.0->scikit-image->efficientnet==1.0.0->segmentation-models) (3.0.6)\r\n",
      "Requirement already satisfied: kiwisolver>=1.0.1 in /opt/conda/lib/python3.7/site-packages (from matplotlib!=3.0.0,>=2.0.0->scikit-image->efficientnet==1.0.0->segmentation-models) (1.3.2)\r\n",
      "Requirement already satisfied: fonttools>=4.22.0 in /opt/conda/lib/python3.7/site-packages (from matplotlib!=3.0.0,>=2.0.0->scikit-image->efficientnet==1.0.0->segmentation-models) (4.28.2)\r\n",
      "Requirement already satisfied: six>=1.5 in /opt/conda/lib/python3.7/site-packages (from python-dateutil>=2.7->matplotlib!=3.0.0,>=2.0.0->scikit-image->efficientnet==1.0.0->segmentation-models) (1.16.0)\r\n",
      "Requirement already satisfied: tomli>=1.0.0 in /opt/conda/lib/python3.7/site-packages (from setuptools-scm>=4->matplotlib!=3.0.0,>=2.0.0->scikit-image->efficientnet==1.0.0->segmentation-models) (1.2.2)\r\n",
      "Requirement already satisfied: setuptools in /opt/conda/lib/python3.7/site-packages (from setuptools-scm>=4->matplotlib!=3.0.0,>=2.0.0->scikit-image->efficientnet==1.0.0->segmentation-models) (59.1.1)\r\n",
      "Installing collected packages: keras-applications, image-classifiers, efficientnet, segmentation-models\r\n",
      "Successfully installed efficientnet-1.0.0 image-classifiers-1.0.0 keras-applications-1.0.8 segmentation-models-1.0.1\r\n",
      "\u001b[33mWARNING: Running pip as the 'root' user can result in broken permissions and conflicting behaviour with the system package manager. It is recommended to use a virtual environment instead: https://pip.pypa.io/warnings/venv\u001b[0m\r\n",
      "Segmentation Models: using `keras` framework.\n"
     ]
    },
    {
     "data": {
      "text/plain": [
       "'tf.keras'"
      ]
     },
     "execution_count": 4,
     "metadata": {},
     "output_type": "execute_result"
    }
   ],
   "source": [
    "! pip install segmentation-models\n",
    "import segmentation_models as sm\n",
    "sm.set_framework('tf.keras')\n",
    "sm.framework()"
   ]
  },
  {
   "cell_type": "code",
   "execution_count": 5,
   "id": "5d978989",
   "metadata": {
    "execution": {
     "iopub.execute_input": "2021-12-04T07:44:19.683573Z",
     "iopub.status.busy": "2021-12-04T07:44:19.682805Z",
     "iopub.status.idle": "2021-12-04T07:44:20.172249Z",
     "shell.execute_reply": "2021-12-04T07:44:20.171675Z",
     "shell.execute_reply.started": "2021-12-04T07:23:33.627213Z"
    },
    "papermill": {
     "duration": 0.520789,
     "end_time": "2021-12-04T07:44:20.172409",
     "exception": false,
     "start_time": "2021-12-04T07:44:19.651620",
     "status": "completed"
    },
    "tags": []
   },
   "outputs": [
    {
     "name": "stdout",
     "output_type": "stream",
     "text": [
      "\n"
     ]
    },
    {
     "data": {
      "text/html": [
       "<div>\n",
       "<style scoped>\n",
       "    .dataframe tbody tr th:only-of-type {\n",
       "        vertical-align: middle;\n",
       "    }\n",
       "\n",
       "    .dataframe tbody tr th {\n",
       "        vertical-align: top;\n",
       "    }\n",
       "\n",
       "    .dataframe thead th {\n",
       "        text-align: right;\n",
       "    }\n",
       "</style>\n",
       "<table border=\"1\" class=\"dataframe\">\n",
       "  <thead>\n",
       "    <tr style=\"text-align: right;\">\n",
       "      <th></th>\n",
       "      <th>ImageId</th>\n",
       "      <th>def1</th>\n",
       "      <th>def2</th>\n",
       "      <th>def3</th>\n",
       "      <th>def4</th>\n",
       "      <th>has_defect</th>\n",
       "    </tr>\n",
       "  </thead>\n",
       "  <tbody>\n",
       "    <tr>\n",
       "      <th>0</th>\n",
       "      <td>e5d954e34.jpg</td>\n",
       "      <td></td>\n",
       "      <td></td>\n",
       "      <td>268033 128 268289 4864 273154 255 273410 255 2...</td>\n",
       "      <td></td>\n",
       "      <td>1</td>\n",
       "    </tr>\n",
       "    <tr>\n",
       "      <th>1</th>\n",
       "      <td>e5dc1f3a9.jpg</td>\n",
       "      <td></td>\n",
       "      <td></td>\n",
       "      <td></td>\n",
       "      <td></td>\n",
       "      <td>0</td>\n",
       "    </tr>\n",
       "    <tr>\n",
       "      <th>2</th>\n",
       "      <td>e5dd1ea97.jpg</td>\n",
       "      <td></td>\n",
       "      <td></td>\n",
       "      <td>228784 4 229035 12 229287 19 229538 27 229791 ...</td>\n",
       "      <td></td>\n",
       "      <td>1</td>\n",
       "    </tr>\n",
       "    <tr>\n",
       "      <th>3</th>\n",
       "      <td>e5dfaf632.jpg</td>\n",
       "      <td></td>\n",
       "      <td></td>\n",
       "      <td>94587 7 94831 19 95075 31 95319 43 95563 55 95...</td>\n",
       "      <td></td>\n",
       "      <td>1</td>\n",
       "    </tr>\n",
       "    <tr>\n",
       "      <th>4</th>\n",
       "      <td>e5e0fe470.jpg</td>\n",
       "      <td></td>\n",
       "      <td></td>\n",
       "      <td>146572 3 146822 10 147073 15 147323 22 147574 ...</td>\n",
       "      <td></td>\n",
       "      <td>1</td>\n",
       "    </tr>\n",
       "    <tr>\n",
       "      <th>5</th>\n",
       "      <td>e5e22441b.jpg</td>\n",
       "      <td></td>\n",
       "      <td></td>\n",
       "      <td></td>\n",
       "      <td></td>\n",
       "      <td>0</td>\n",
       "    </tr>\n",
       "    <tr>\n",
       "      <th>6</th>\n",
       "      <td>e5ea04944.jpg</td>\n",
       "      <td></td>\n",
       "      <td></td>\n",
       "      <td>31233 32 31489 96 31745 160 32001 224 32257 64...</td>\n",
       "      <td></td>\n",
       "      <td>1</td>\n",
       "    </tr>\n",
       "    <tr>\n",
       "      <th>7</th>\n",
       "      <td>e5f1d5a38.jpg</td>\n",
       "      <td></td>\n",
       "      <td></td>\n",
       "      <td>238377 69 238634 136 238890 136 239147 135 239...</td>\n",
       "      <td></td>\n",
       "      <td>1</td>\n",
       "    </tr>\n",
       "    <tr>\n",
       "      <th>8</th>\n",
       "      <td>e5f9a5bb9.jpg</td>\n",
       "      <td></td>\n",
       "      <td></td>\n",
       "      <td>37358 19 37578 55 37797 92 38017 128 38237 164...</td>\n",
       "      <td>170595 48 170848 54 171101 60 171354 66 171608...</td>\n",
       "      <td>1</td>\n",
       "    </tr>\n",
       "    <tr>\n",
       "      <th>9</th>\n",
       "      <td>e6042b9a7.jpg</td>\n",
       "      <td></td>\n",
       "      <td></td>\n",
       "      <td></td>\n",
       "      <td></td>\n",
       "      <td>0</td>\n",
       "    </tr>\n",
       "    <tr>\n",
       "      <th>10</th>\n",
       "      <td>e60c46d38.jpg</td>\n",
       "      <td></td>\n",
       "      <td></td>\n",
       "      <td></td>\n",
       "      <td></td>\n",
       "      <td>0</td>\n",
       "    </tr>\n",
       "    <tr>\n",
       "      <th>11</th>\n",
       "      <td>e6123fb08.jpg</td>\n",
       "      <td>32246 11 32492 21 32748 21 33004 21 33260 21 3...</td>\n",
       "      <td></td>\n",
       "      <td></td>\n",
       "      <td></td>\n",
       "      <td>1</td>\n",
       "    </tr>\n",
       "    <tr>\n",
       "      <th>12</th>\n",
       "      <td>e616ad745.jpg</td>\n",
       "      <td></td>\n",
       "      <td></td>\n",
       "      <td>2928 3 3182 7 3436 11 3690 16 3943 21 4197 25 ...</td>\n",
       "      <td></td>\n",
       "      <td>1</td>\n",
       "    </tr>\n",
       "    <tr>\n",
       "      <th>13</th>\n",
       "      <td>e616d2879.jpg</td>\n",
       "      <td></td>\n",
       "      <td></td>\n",
       "      <td></td>\n",
       "      <td></td>\n",
       "      <td>0</td>\n",
       "    </tr>\n",
       "    <tr>\n",
       "      <th>14</th>\n",
       "      <td>e6207db1a.jpg</td>\n",
       "      <td></td>\n",
       "      <td></td>\n",
       "      <td></td>\n",
       "      <td></td>\n",
       "      <td>0</td>\n",
       "    </tr>\n",
       "  </tbody>\n",
       "</table>\n",
       "</div>"
      ],
      "text/plain": [
       "          ImageId                                               def1 def2  \\\n",
       "0   e5d954e34.jpg                                                           \n",
       "1   e5dc1f3a9.jpg                                                           \n",
       "2   e5dd1ea97.jpg                                                           \n",
       "3   e5dfaf632.jpg                                                           \n",
       "4   e5e0fe470.jpg                                                           \n",
       "5   e5e22441b.jpg                                                           \n",
       "6   e5ea04944.jpg                                                           \n",
       "7   e5f1d5a38.jpg                                                           \n",
       "8   e5f9a5bb9.jpg                                                           \n",
       "9   e6042b9a7.jpg                                                           \n",
       "10  e60c46d38.jpg                                                           \n",
       "11  e6123fb08.jpg  32246 11 32492 21 32748 21 33004 21 33260 21 3...        \n",
       "12  e616ad745.jpg                                                           \n",
       "13  e616d2879.jpg                                                           \n",
       "14  e6207db1a.jpg                                                           \n",
       "\n",
       "                                                 def3  \\\n",
       "0   268033 128 268289 4864 273154 255 273410 255 2...   \n",
       "1                                                       \n",
       "2   228784 4 229035 12 229287 19 229538 27 229791 ...   \n",
       "3   94587 7 94831 19 95075 31 95319 43 95563 55 95...   \n",
       "4   146572 3 146822 10 147073 15 147323 22 147574 ...   \n",
       "5                                                       \n",
       "6   31233 32 31489 96 31745 160 32001 224 32257 64...   \n",
       "7   238377 69 238634 136 238890 136 239147 135 239...   \n",
       "8   37358 19 37578 55 37797 92 38017 128 38237 164...   \n",
       "9                                                       \n",
       "10                                                      \n",
       "11                                                      \n",
       "12  2928 3 3182 7 3436 11 3690 16 3943 21 4197 25 ...   \n",
       "13                                                      \n",
       "14                                                      \n",
       "\n",
       "                                                 def4  has_defect  \n",
       "0                                                               1  \n",
       "1                                                               0  \n",
       "2                                                               1  \n",
       "3                                                               1  \n",
       "4                                                               1  \n",
       "5                                                               0  \n",
       "6                                                               1  \n",
       "7                                                               1  \n",
       "8   170595 48 170848 54 171101 60 171354 66 171608...           1  \n",
       "9                                                               0  \n",
       "10                                                              0  \n",
       "11                                                              1  \n",
       "12                                                              1  \n",
       "13                                                              0  \n",
       "14                                                              0  "
      ]
     },
     "execution_count": 5,
     "metadata": {},
     "output_type": "execute_result"
    }
   ],
   "source": [
    "data = pd.read_csv('../input/data-pre/new_data.csv')\n",
    "idx = int(len(data)*0.9);print()\n",
    "data = data.iloc[idx:]\n",
    "data = data.reset_index()\n",
    "data = data.drop(['index'], axis = 1)\n",
    "data.fillna('',inplace=True)\n",
    "data.head(15)"
   ]
  },
  {
   "cell_type": "code",
   "execution_count": 6,
   "id": "d1755e70",
   "metadata": {
    "execution": {
     "iopub.execute_input": "2021-12-04T07:44:20.227693Z",
     "iopub.status.busy": "2021-12-04T07:44:20.226996Z",
     "iopub.status.idle": "2021-12-04T07:44:20.230296Z",
     "shell.execute_reply": "2021-12-04T07:44:20.229691Z",
     "shell.execute_reply.started": "2021-12-04T07:23:33.869038Z"
    },
    "papermill": {
     "duration": 0.032948,
     "end_time": "2021-12-04T07:44:20.230444",
     "exception": false,
     "start_time": "2021-12-04T07:44:20.197496",
     "status": "completed"
    },
    "tags": []
   },
   "outputs": [
    {
     "name": "stdout",
     "output_type": "stream",
     "text": [
      "1257\n"
     ]
    }
   ],
   "source": [
    "#from keras.models import load_model\n",
    "#model = load_model('UNET.h5',custom_objects={'dice_coef':dice_coef})\n",
    "print(len(data))"
   ]
  },
  {
   "cell_type": "code",
   "execution_count": 7,
   "id": "21e427d1",
   "metadata": {
    "execution": {
     "iopub.execute_input": "2021-12-04T07:44:20.284996Z",
     "iopub.status.busy": "2021-12-04T07:44:20.284270Z",
     "iopub.status.idle": "2021-12-04T07:44:24.316445Z",
     "shell.execute_reply": "2021-12-04T07:44:24.317009Z",
     "shell.execute_reply.started": "2021-12-04T07:23:33.876975Z"
    },
    "papermill": {
     "duration": 4.062035,
     "end_time": "2021-12-04T07:44:24.317195",
     "exception": false,
     "start_time": "2021-12-04T07:44:20.255160",
     "status": "completed"
    },
    "tags": []
   },
   "outputs": [
    {
     "name": "stderr",
     "output_type": "stream",
     "text": [
      "\n",
      "User settings:\n",
      "\n",
      "   KMP_AFFINITY=granularity=fine,verbose,compact,1,0\n",
      "   KMP_BLOCKTIME=0\n",
      "   KMP_SETTINGS=1\n",
      "   KMP_WARNINGS=0\n",
      "\n",
      "Effective settings:\n",
      "\n",
      "   KMP_ABORT_DELAY=0\n",
      "   KMP_ADAPTIVE_LOCK_PROPS='1,1024'\n",
      "   KMP_ALIGN_ALLOC=64\n",
      "   KMP_ALL_THREADPRIVATE=128\n",
      "   KMP_ATOMIC_MODE=2\n",
      "   KMP_BLOCKTIME=0\n",
      "   KMP_CPUINFO_FILE: value is not defined\n",
      "   KMP_DETERMINISTIC_REDUCTION=false\n",
      "   KMP_DEVICE_THREAD_LIMIT=2147483647\n",
      "   KMP_DISP_NUM_BUFFERS=7\n",
      "   KMP_DUPLICATE_LIB_OK=false\n",
      "   KMP_ENABLE_TASK_THROTTLING=true\n",
      "   KMP_FORCE_REDUCTION: value is not defined\n",
      "   KMP_FOREIGN_THREADS_THREADPRIVATE=true\n",
      "   KMP_FORKJOIN_BARRIER='2,2'\n",
      "   KMP_FORKJOIN_BARRIER_PATTERN='hyper,hyper'\n",
      "   KMP_GTID_MODE=3\n",
      "   KMP_HANDLE_SIGNALS=false\n",
      "   KMP_HOT_TEAMS_MAX_LEVEL=1\n",
      "   KMP_HOT_TEAMS_MODE=0\n",
      "   KMP_INIT_AT_FORK=true\n",
      "   KMP_LIBRARY=throughput\n",
      "   KMP_LOCK_KIND=queuing\n",
      "   KMP_MALLOC_POOL_INCR=1M\n",
      "   KMP_NUM_LOCKS_IN_BLOCK=1\n",
      "   KMP_PLAIN_BARRIER='2,2'\n",
      "   KMP_PLAIN_BARRIER_PATTERN='hyper,hyper'\n",
      "   KMP_REDUCTION_BARRIER='1,1'\n",
      "   KMP_REDUCTION_BARRIER_PATTERN='hyper,hyper'\n",
      "   KMP_SCHEDULE='static,balanced;guided,iterative'\n",
      "   KMP_SETTINGS=true\n",
      "   KMP_SPIN_BACKOFF_PARAMS='4096,100'\n",
      "   KMP_STACKOFFSET=64\n",
      "   KMP_STACKPAD=0\n",
      "   KMP_STACKSIZE=8M\n",
      "   KMP_STORAGE_MAP=false\n",
      "   KMP_TASKING=2\n",
      "   KMP_TASKLOOP_MIN_TASKS=0\n",
      "   KMP_TASK_STEALING_CONSTRAINT=1\n",
      "   KMP_TEAMS_THREAD_LIMIT=4\n",
      "   KMP_TOPOLOGY_METHOD=all\n",
      "   KMP_USE_YIELD=1\n",
      "   KMP_VERSION=false\n",
      "   KMP_WARNINGS=false\n",
      "   OMP_AFFINITY_FORMAT='OMP: pid %P tid %i thread %n bound to OS proc set {%A}'\n",
      "   OMP_ALLOCATOR=omp_default_mem_alloc\n",
      "   OMP_CANCELLATION=false\n",
      "   OMP_DEFAULT_DEVICE=0\n",
      "   OMP_DISPLAY_AFFINITY=false\n",
      "   OMP_DISPLAY_ENV=false\n",
      "   OMP_DYNAMIC=false\n",
      "   OMP_MAX_ACTIVE_LEVELS=1\n",
      "   OMP_MAX_TASK_PRIORITY=0\n",
      "   OMP_NESTED: deprecated; max-active-levels-var=1\n",
      "   OMP_NUM_THREADS: value is not defined\n",
      "   OMP_PLACES: value is not defined\n",
      "   OMP_PROC_BIND='intel'\n",
      "   OMP_SCHEDULE='static'\n",
      "   OMP_STACKSIZE=8M\n",
      "   OMP_TARGET_OFFLOAD=DEFAULT\n",
      "   OMP_THREAD_LIMIT=2147483647\n",
      "   OMP_WAIT_POLICY=PASSIVE\n",
      "   KMP_AFFINITY='verbose,warnings,respect,granularity=fine,compact,1,0'\n",
      "\n",
      "2021-12-04 07:44:20.528869: I tensorflow/core/common_runtime/process_util.cc:146] Creating new thread pool with default inter op setting: 2. Tune using inter_op_parallelism_threads for best performance.\n"
     ]
    }
   ],
   "source": [
    "from keras.models import load_model\n",
    "model = load_model('../input/train/UNET.h5',custom_objects={'dice_coef':dice_coef})"
   ]
  },
  {
   "cell_type": "code",
   "execution_count": 8,
   "id": "7092b1b3",
   "metadata": {
    "execution": {
     "iopub.execute_input": "2021-12-04T07:44:24.374185Z",
     "iopub.status.busy": "2021-12-04T07:44:24.373518Z",
     "iopub.status.idle": "2021-12-04T07:44:24.378380Z",
     "shell.execute_reply": "2021-12-04T07:44:24.377839Z",
     "shell.execute_reply.started": "2021-12-04T07:23:38.491459Z"
    },
    "papermill": {
     "duration": 0.034816,
     "end_time": "2021-12-04T07:44:24.378542",
     "exception": false,
     "start_time": "2021-12-04T07:44:24.343726",
     "status": "completed"
    },
    "tags": []
   },
   "outputs": [],
   "source": [
    "preprocess = sm.get_preprocessing('resnet34')"
   ]
  },
  {
   "cell_type": "code",
   "execution_count": 9,
   "id": "276e328c",
   "metadata": {
    "execution": {
     "iopub.execute_input": "2021-12-04T07:44:24.441656Z",
     "iopub.status.busy": "2021-12-04T07:44:24.440864Z",
     "iopub.status.idle": "2021-12-04T07:44:24.687905Z",
     "shell.execute_reply": "2021-12-04T07:44:24.688378Z",
     "shell.execute_reply.started": "2021-12-04T07:23:38.498819Z"
    },
    "papermill": {
     "duration": 0.284051,
     "end_time": "2021-12-04T07:44:24.688572",
     "exception": false,
     "start_time": "2021-12-04T07:44:24.404521",
     "status": "completed"
    },
    "tags": []
   },
   "outputs": [
    {
     "data": {
      "image/png": "[encoded data removed]",
      "text/plain": [
       "<Figure size 432x288 with 1 Axes>"
      ]
     },
     "metadata": {
      "needs_background": "light"
     },
     "output_type": "display_data"
    }
   ],
   "source": [
    "x = Image.open('/kaggle/input/severstal-steel-defect-detection/train_images/' + data['ImageId'].iloc[0]).resize((800,128))\n",
    "plt.imshow(x) \n",
    "plt.show()"
   ]
  },
  {
   "cell_type": "code",
   "execution_count": 10,
   "id": "b718f08d",
   "metadata": {
    "execution": {
     "iopub.execute_input": "2021-12-04T07:44:24.756092Z",
     "iopub.status.busy": "2021-12-04T07:44:24.750570Z",
     "iopub.status.idle": "2021-12-04T07:51:27.330456Z",
     "shell.execute_reply": "2021-12-04T07:51:27.331239Z",
     "shell.execute_reply.started": "2021-12-04T07:23:38.727463Z"
    },
    "papermill": {
     "duration": 422.615153,
     "end_time": "2021-12-04T07:51:27.331505",
     "exception": false,
     "start_time": "2021-12-04T07:44:24.716352",
     "status": "completed"
    },
    "tags": []
   },
   "outputs": [
    {
     "name": "stderr",
     "output_type": "stream",
     "text": [
      "2021-12-04 07:44:24.854422: I tensorflow/compiler/mlir/mlir_graph_optimization_pass.cc:185] None of the MLIR Optimization Passes are enabled (registered 2)\n"
     ]
    },
    {
     "name": "stdout",
     "output_type": "stream",
     "text": [
      "0.9222982846890861\n"
     ]
    }
   ],
   "source": [
    "#thresholding areas and probabilities\n",
    "dice_val=0\n",
    "for i in range(len(data)):\n",
    "    x = np.array(Image.open('/kaggle/input/severstal-steel-defect-detection/train_images/' + data['ImageId'].iloc[i]).resize((800,128)))\n",
    "    x = preprocess(x)\n",
    "    pred = model.predict(np.array( [x,]))[0]\n",
    "    #threshold on probabilities\n",
    "    mask1 = np.empty_like(pred[:,:,0])\n",
    "    mask2 = np.empty_like(pred[:,:,1])\n",
    "    mask3 = np.empty_like(pred[:,:,2])\n",
    "    mask4 = np.empty_like(pred[:,:,3])\n",
    "    mask1 = np.copy(pred[:,:,0])\n",
    "    mask2 = np.copy(pred[:,:,1])\n",
    "    mask3 = np.copy(pred[:,:,2])\n",
    "    mask4 = np.copy(pred[:,:,3])\n",
    "    mask1 = np.where(mask1>=0.5,1,0)\n",
    "    mask2 = np.where(mask2>=0.5,1,0)\n",
    "    mask3 = np.where(mask3>=0.5,1,0)\n",
    "    mask4 = np.where(mask4>=0.5,1,0)\n",
    "    #threshold on areas\n",
    "    area1 = np.sum(mask1)*4 #resizing factor \n",
    "    area2 = np.sum(mask2)*4 \n",
    "    area3 = np.sum(mask3)*4\n",
    "    area4 = np.sum(mask4)*4\n",
    "    if area1<300 or area1>13500:\n",
    "        mask1 = np.zeros((128,800),dtype=np.uint8)\n",
    "    if area2<500 or area2>9000:\n",
    "        mask2 = np.zeros((128,800),dtype=np.uint8)\n",
    "    if area3<900 or area3>140000:\n",
    "        mask3 = np.zeros((128,800),dtype=np.uint8)\n",
    "    if area4<2400 or area4>120000:\n",
    "        mask4 = np.zeros((128,800),dtype=np.uint8)\n",
    "    actual1 = rle2maskResize(data['def1'].iloc[i])\n",
    "    actual2 = rle2maskResize(data['def2'].iloc[i])\n",
    "    actual3 = rle2maskResize(data['def3'].iloc[i])\n",
    "    actual4 = rle2maskResize(data['def4'].iloc[i])\n",
    "    dice_val += dice_coef(actual1,mask1)\n",
    "    dice_val += dice_coef(actual2,mask2)\n",
    "    dice_val += dice_coef(actual3,mask3)\n",
    "    dice_val += dice_coef(actual4,mask4)\n",
    "total = 4*len(data)\n",
    "dice_val /= total\n",
    "print(dice_val)\n",
    "    \n"
   ]
  },
  {
   "cell_type": "code",
   "execution_count": 11,
   "id": "32757b7e",
   "metadata": {
    "execution": {
     "iopub.execute_input": "2021-12-04T07:51:27.390612Z",
     "iopub.status.busy": "2021-12-04T07:51:27.389851Z",
     "iopub.status.idle": "2021-12-04T07:51:27.399952Z",
     "shell.execute_reply": "2021-12-04T07:51:27.400497Z",
     "shell.execute_reply.started": "2021-12-04T07:30:59.729977Z"
    },
    "papermill": {
     "duration": 0.041335,
     "end_time": "2021-12-04T07:51:27.400699",
     "exception": false,
     "start_time": "2021-12-04T07:51:27.359364",
     "status": "completed"
    },
    "tags": []
   },
   "outputs": [],
   "source": [
    "#defect1\n",
    "defect1 = data.loc[data['def1'] != '']\n",
    "#defect2\n",
    "defect2 = data.loc[data['def2'] != '']\n",
    "#defect3\n",
    "defect3 = data.loc[data['def3'] != '']\n",
    "#defect4\n",
    "defect4 = data.loc[data['def4'] != '']\n",
    "#no defect\n",
    "no_defect = data.loc[data['has_defect'] == 0]"
   ]
  },
  {
   "cell_type": "code",
   "execution_count": 12,
   "id": "dcebae82",
   "metadata": {
    "execution": {
     "iopub.execute_input": "2021-12-04T07:51:27.466670Z",
     "iopub.status.busy": "2021-12-04T07:51:27.465343Z",
     "iopub.status.idle": "2021-12-04T07:51:27.475926Z",
     "shell.execute_reply": "2021-12-04T07:51:27.476546Z",
     "shell.execute_reply.started": "2021-12-04T07:30:59.745513Z"
    },
    "papermill": {
     "duration": 0.048679,
     "end_time": "2021-12-04T07:51:27.476742",
     "exception": false,
     "start_time": "2021-12-04T07:51:27.428063",
     "status": "completed"
    },
    "tags": []
   },
   "outputs": [],
   "source": [
    "defect1 = defect1.reset_index()\n",
    "defect1 = defect1.drop(['index'], axis = 1)\n",
    "defect1 = defect1.iloc[:3]\n",
    "\n",
    "defect2 = defect2.reset_index()\n",
    "defect2 = defect2.drop(['index'], axis = 1)\n",
    "defect2 = defect2.iloc[:3]\n",
    "\n",
    "defect3 = defect3.reset_index()\n",
    "defect3 = defect3.drop(['index'], axis = 1)\n",
    "defect3 = defect3.iloc[:3]\n",
    "\n",
    "defect4 = defect4.reset_index()\n",
    "defect4 = defect4.drop(['index'], axis = 1)\n",
    "defect4 = defect4.iloc[:3]\n",
    "\n",
    "no_defect = no_defect.reset_index()\n",
    "no_defect = no_defect.drop(['index'], axis = 1)\n",
    "no_defect = no_defect.iloc[:3]\n"
   ]
  },
  {
   "cell_type": "code",
   "execution_count": 13,
   "id": "90ae9370",
   "metadata": {
    "execution": {
     "iopub.execute_input": "2021-12-04T07:51:27.545781Z",
     "iopub.status.busy": "2021-12-04T07:51:27.534949Z",
     "iopub.status.idle": "2021-12-04T07:51:27.549108Z",
     "shell.execute_reply": "2021-12-04T07:51:27.549668Z",
     "shell.execute_reply.started": "2021-12-04T07:30:59.769536Z"
    },
    "papermill": {
     "duration": 0.045228,
     "end_time": "2021-12-04T07:51:27.549841",
     "exception": false,
     "start_time": "2021-12-04T07:51:27.504613",
     "status": "completed"
    },
    "tags": []
   },
   "outputs": [
    {
     "data": {
      "text/html": [
       "<div>\n",
       "<style scoped>\n",
       "    .dataframe tbody tr th:only-of-type {\n",
       "        vertical-align: middle;\n",
       "    }\n",
       "\n",
       "    .dataframe tbody tr th {\n",
       "        vertical-align: top;\n",
       "    }\n",
       "\n",
       "    .dataframe thead th {\n",
       "        text-align: right;\n",
       "    }\n",
       "</style>\n",
       "<table border=\"1\" class=\"dataframe\">\n",
       "  <thead>\n",
       "    <tr style=\"text-align: right;\">\n",
       "      <th></th>\n",
       "      <th>ImageId</th>\n",
       "      <th>def1</th>\n",
       "      <th>def2</th>\n",
       "      <th>def3</th>\n",
       "      <th>def4</th>\n",
       "      <th>has_defect</th>\n",
       "    </tr>\n",
       "  </thead>\n",
       "  <tbody>\n",
       "    <tr>\n",
       "      <th>0</th>\n",
       "      <td>e6123fb08.jpg</td>\n",
       "      <td>32246 11 32492 21 32748 21 33004 21 33260 21 3...</td>\n",
       "      <td></td>\n",
       "      <td></td>\n",
       "      <td></td>\n",
       "      <td>1</td>\n",
       "    </tr>\n",
       "    <tr>\n",
       "      <th>1</th>\n",
       "      <td>e667de6f9.jpg</td>\n",
       "      <td>200186 7 200429 20 200671 34 200914 47 201163 ...</td>\n",
       "      <td></td>\n",
       "      <td></td>\n",
       "      <td></td>\n",
       "      <td>1</td>\n",
       "    </tr>\n",
       "    <tr>\n",
       "      <th>2</th>\n",
       "      <td>e6feea803.jpg</td>\n",
       "      <td>39844 3 40100 7 40356 11 40612 16 40868 20 411...</td>\n",
       "      <td></td>\n",
       "      <td>256576 23 256832 23 257088 23 257344 23 257600...</td>\n",
       "      <td></td>\n",
       "      <td>1</td>\n",
       "    </tr>\n",
       "  </tbody>\n",
       "</table>\n",
       "</div>"
      ],
      "text/plain": [
       "         ImageId                                               def1 def2  \\\n",
       "0  e6123fb08.jpg  32246 11 32492 21 32748 21 33004 21 33260 21 3...        \n",
       "1  e667de6f9.jpg  200186 7 200429 20 200671 34 200914 47 201163 ...        \n",
       "2  e6feea803.jpg  39844 3 40100 7 40356 11 40612 16 40868 20 411...        \n",
       "\n",
       "                                                def3 def4  has_defect  \n",
       "0                                                                   1  \n",
       "1                                                                   1  \n",
       "2  256576 23 256832 23 257088 23 257344 23 257600...                1  "
      ]
     },
     "execution_count": 13,
     "metadata": {},
     "output_type": "execute_result"
    }
   ],
   "source": [
    "defect1.head()"
   ]
  },
  {
   "cell_type": "code",
   "execution_count": 14,
   "id": "b4735240",
   "metadata": {
    "execution": {
     "iopub.execute_input": "2021-12-04T07:51:27.609736Z",
     "iopub.status.busy": "2021-12-04T07:51:27.609058Z",
     "iopub.status.idle": "2021-12-04T07:51:27.620884Z",
     "shell.execute_reply": "2021-12-04T07:51:27.621408Z",
     "shell.execute_reply.started": "2021-12-04T07:30:59.793574Z"
    },
    "papermill": {
     "duration": 0.043739,
     "end_time": "2021-12-04T07:51:27.621618",
     "exception": false,
     "start_time": "2021-12-04T07:51:27.577879",
     "status": "completed"
    },
    "tags": []
   },
   "outputs": [
    {
     "data": {
      "text/html": [
       "<div>\n",
       "<style scoped>\n",
       "    .dataframe tbody tr th:only-of-type {\n",
       "        vertical-align: middle;\n",
       "    }\n",
       "\n",
       "    .dataframe tbody tr th {\n",
       "        vertical-align: top;\n",
       "    }\n",
       "\n",
       "    .dataframe thead th {\n",
       "        text-align: right;\n",
       "    }\n",
       "</style>\n",
       "<table border=\"1\" class=\"dataframe\">\n",
       "  <thead>\n",
       "    <tr style=\"text-align: right;\">\n",
       "      <th></th>\n",
       "      <th>ImageId</th>\n",
       "      <th>def1</th>\n",
       "      <th>def2</th>\n",
       "      <th>def3</th>\n",
       "      <th>def4</th>\n",
       "      <th>has_defect</th>\n",
       "    </tr>\n",
       "  </thead>\n",
       "  <tbody>\n",
       "    <tr>\n",
       "      <th>0</th>\n",
       "      <td>e6ac69712.jpg</td>\n",
       "      <td></td>\n",
       "      <td>122640 22 122895 65 123150 108 123405 151 1236...</td>\n",
       "      <td></td>\n",
       "      <td></td>\n",
       "      <td>1</td>\n",
       "    </tr>\n",
       "    <tr>\n",
       "      <th>1</th>\n",
       "      <td>e77d57652.jpg</td>\n",
       "      <td></td>\n",
       "      <td>235456 11 235691 32 235927 53 236172 64 236428...</td>\n",
       "      <td></td>\n",
       "      <td></td>\n",
       "      <td>1</td>\n",
       "    </tr>\n",
       "    <tr>\n",
       "      <th>2</th>\n",
       "      <td>e86b2f3e2.jpg</td>\n",
       "      <td></td>\n",
       "      <td>382246 13 382478 38 382721 51 382977 52 383233...</td>\n",
       "      <td></td>\n",
       "      <td></td>\n",
       "      <td>1</td>\n",
       "    </tr>\n",
       "  </tbody>\n",
       "</table>\n",
       "</div>"
      ],
      "text/plain": [
       "         ImageId def1                                               def2 def3  \\\n",
       "0  e6ac69712.jpg       122640 22 122895 65 123150 108 123405 151 1236...        \n",
       "1  e77d57652.jpg       235456 11 235691 32 235927 53 236172 64 236428...        \n",
       "2  e86b2f3e2.jpg       382246 13 382478 38 382721 51 382977 52 383233...        \n",
       "\n",
       "  def4  has_defect  \n",
       "0                1  \n",
       "1                1  \n",
       "2                1  "
      ]
     },
     "execution_count": 14,
     "metadata": {},
     "output_type": "execute_result"
    }
   ],
   "source": [
    "defect2.head()"
   ]
  },
  {
   "cell_type": "code",
   "execution_count": 15,
   "id": "8f41f029",
   "metadata": {
    "execution": {
     "iopub.execute_input": "2021-12-04T07:51:27.682635Z",
     "iopub.status.busy": "2021-12-04T07:51:27.681943Z",
     "iopub.status.idle": "2021-12-04T07:51:27.693393Z",
     "shell.execute_reply": "2021-12-04T07:51:27.693937Z",
     "shell.execute_reply.started": "2021-12-04T07:30:59.809880Z"
    },
    "papermill": {
     "duration": 0.044617,
     "end_time": "2021-12-04T07:51:27.694117",
     "exception": false,
     "start_time": "2021-12-04T07:51:27.649500",
     "status": "completed"
    },
    "tags": []
   },
   "outputs": [
    {
     "data": {
      "text/html": [
       "<div>\n",
       "<style scoped>\n",
       "    .dataframe tbody tr th:only-of-type {\n",
       "        vertical-align: middle;\n",
       "    }\n",
       "\n",
       "    .dataframe tbody tr th {\n",
       "        vertical-align: top;\n",
       "    }\n",
       "\n",
       "    .dataframe thead th {\n",
       "        text-align: right;\n",
       "    }\n",
       "</style>\n",
       "<table border=\"1\" class=\"dataframe\">\n",
       "  <thead>\n",
       "    <tr style=\"text-align: right;\">\n",
       "      <th></th>\n",
       "      <th>ImageId</th>\n",
       "      <th>def1</th>\n",
       "      <th>def2</th>\n",
       "      <th>def3</th>\n",
       "      <th>def4</th>\n",
       "      <th>has_defect</th>\n",
       "    </tr>\n",
       "  </thead>\n",
       "  <tbody>\n",
       "    <tr>\n",
       "      <th>0</th>\n",
       "      <td>e5d954e34.jpg</td>\n",
       "      <td></td>\n",
       "      <td></td>\n",
       "      <td>268033 128 268289 4864 273154 255 273410 255 2...</td>\n",
       "      <td></td>\n",
       "      <td>1</td>\n",
       "    </tr>\n",
       "    <tr>\n",
       "      <th>1</th>\n",
       "      <td>e5dd1ea97.jpg</td>\n",
       "      <td></td>\n",
       "      <td></td>\n",
       "      <td>228784 4 229035 12 229287 19 229538 27 229791 ...</td>\n",
       "      <td></td>\n",
       "      <td>1</td>\n",
       "    </tr>\n",
       "    <tr>\n",
       "      <th>2</th>\n",
       "      <td>e5dfaf632.jpg</td>\n",
       "      <td></td>\n",
       "      <td></td>\n",
       "      <td>94587 7 94831 19 95075 31 95319 43 95563 55 95...</td>\n",
       "      <td></td>\n",
       "      <td>1</td>\n",
       "    </tr>\n",
       "  </tbody>\n",
       "</table>\n",
       "</div>"
      ],
      "text/plain": [
       "         ImageId def1 def2                                               def3  \\\n",
       "0  e5d954e34.jpg            268033 128 268289 4864 273154 255 273410 255 2...   \n",
       "1  e5dd1ea97.jpg            228784 4 229035 12 229287 19 229538 27 229791 ...   \n",
       "2  e5dfaf632.jpg            94587 7 94831 19 95075 31 95319 43 95563 55 95...   \n",
       "\n",
       "  def4  has_defect  \n",
       "0                1  \n",
       "1                1  \n",
       "2                1  "
      ]
     },
     "execution_count": 15,
     "metadata": {},
     "output_type": "execute_result"
    }
   ],
   "source": [
    "defect3.head()"
   ]
  },
  {
   "cell_type": "code",
   "execution_count": 16,
   "id": "491a868b",
   "metadata": {
    "execution": {
     "iopub.execute_input": "2021-12-04T07:51:27.753892Z",
     "iopub.status.busy": "2021-12-04T07:51:27.753156Z",
     "iopub.status.idle": "2021-12-04T07:51:27.764677Z",
     "shell.execute_reply": "2021-12-04T07:51:27.765128Z",
     "shell.execute_reply.started": "2021-12-04T07:30:59.829211Z"
    },
    "papermill": {
     "duration": 0.043011,
     "end_time": "2021-12-04T07:51:27.765300",
     "exception": false,
     "start_time": "2021-12-04T07:51:27.722289",
     "status": "completed"
    },
    "tags": []
   },
   "outputs": [
    {
     "data": {
      "text/html": [
       "<div>\n",
       "<style scoped>\n",
       "    .dataframe tbody tr th:only-of-type {\n",
       "        vertical-align: middle;\n",
       "    }\n",
       "\n",
       "    .dataframe tbody tr th {\n",
       "        vertical-align: top;\n",
       "    }\n",
       "\n",
       "    .dataframe thead th {\n",
       "        text-align: right;\n",
       "    }\n",
       "</style>\n",
       "<table border=\"1\" class=\"dataframe\">\n",
       "  <thead>\n",
       "    <tr style=\"text-align: right;\">\n",
       "      <th></th>\n",
       "      <th>ImageId</th>\n",
       "      <th>def1</th>\n",
       "      <th>def2</th>\n",
       "      <th>def3</th>\n",
       "      <th>def4</th>\n",
       "      <th>has_defect</th>\n",
       "    </tr>\n",
       "  </thead>\n",
       "  <tbody>\n",
       "    <tr>\n",
       "      <th>0</th>\n",
       "      <td>e5f9a5bb9.jpg</td>\n",
       "      <td></td>\n",
       "      <td></td>\n",
       "      <td>37358 19 37578 55 37797 92 38017 128 38237 164...</td>\n",
       "      <td>170595 48 170848 54 171101 60 171354 66 171608...</td>\n",
       "      <td>1</td>\n",
       "    </tr>\n",
       "    <tr>\n",
       "      <th>1</th>\n",
       "      <td>e8814afd2.jpg</td>\n",
       "      <td></td>\n",
       "      <td></td>\n",
       "      <td></td>\n",
       "      <td>333025 4 333274 12 333523 20 333771 28 334020 ...</td>\n",
       "      <td>1</td>\n",
       "    </tr>\n",
       "    <tr>\n",
       "      <th>2</th>\n",
       "      <td>e93bfa412.jpg</td>\n",
       "      <td></td>\n",
       "      <td></td>\n",
       "      <td>126061 38 126289 114 126531 154 126786 162 127...</td>\n",
       "      <td>42594 3 42845 10 43096 16 43347 23 43598 29 43...</td>\n",
       "      <td>1</td>\n",
       "    </tr>\n",
       "  </tbody>\n",
       "</table>\n",
       "</div>"
      ],
      "text/plain": [
       "         ImageId def1 def2                                               def3  \\\n",
       "0  e5f9a5bb9.jpg            37358 19 37578 55 37797 92 38017 128 38237 164...   \n",
       "1  e8814afd2.jpg                                                                \n",
       "2  e93bfa412.jpg            126061 38 126289 114 126531 154 126786 162 127...   \n",
       "\n",
       "                                                def4  has_defect  \n",
       "0  170595 48 170848 54 171101 60 171354 66 171608...           1  \n",
       "1  333025 4 333274 12 333523 20 333771 28 334020 ...           1  \n",
       "2  42594 3 42845 10 43096 16 43347 23 43598 29 43...           1  "
      ]
     },
     "execution_count": 16,
     "metadata": {},
     "output_type": "execute_result"
    }
   ],
   "source": [
    "defect4.head()"
   ]
  },
  {
   "cell_type": "code",
   "execution_count": 17,
   "id": "c10063df",
   "metadata": {
    "execution": {
     "iopub.execute_input": "2021-12-04T07:51:27.827067Z",
     "iopub.status.busy": "2021-12-04T07:51:27.826371Z",
     "iopub.status.idle": "2021-12-04T07:51:27.837005Z",
     "shell.execute_reply": "2021-12-04T07:51:27.837539Z",
     "shell.execute_reply.started": "2021-12-04T07:30:59.845633Z"
    },
    "papermill": {
     "duration": 0.04302,
     "end_time": "2021-12-04T07:51:27.837716",
     "exception": false,
     "start_time": "2021-12-04T07:51:27.794696",
     "status": "completed"
    },
    "tags": []
   },
   "outputs": [
    {
     "data": {
      "text/html": [
       "<div>\n",
       "<style scoped>\n",
       "    .dataframe tbody tr th:only-of-type {\n",
       "        vertical-align: middle;\n",
       "    }\n",
       "\n",
       "    .dataframe tbody tr th {\n",
       "        vertical-align: top;\n",
       "    }\n",
       "\n",
       "    .dataframe thead th {\n",
       "        text-align: right;\n",
       "    }\n",
       "</style>\n",
       "<table border=\"1\" class=\"dataframe\">\n",
       "  <thead>\n",
       "    <tr style=\"text-align: right;\">\n",
       "      <th></th>\n",
       "      <th>ImageId</th>\n",
       "      <th>def1</th>\n",
       "      <th>def2</th>\n",
       "      <th>def3</th>\n",
       "      <th>def4</th>\n",
       "      <th>has_defect</th>\n",
       "    </tr>\n",
       "  </thead>\n",
       "  <tbody>\n",
       "    <tr>\n",
       "      <th>0</th>\n",
       "      <td>e5dc1f3a9.jpg</td>\n",
       "      <td></td>\n",
       "      <td></td>\n",
       "      <td></td>\n",
       "      <td></td>\n",
       "      <td>0</td>\n",
       "    </tr>\n",
       "    <tr>\n",
       "      <th>1</th>\n",
       "      <td>e5e22441b.jpg</td>\n",
       "      <td></td>\n",
       "      <td></td>\n",
       "      <td></td>\n",
       "      <td></td>\n",
       "      <td>0</td>\n",
       "    </tr>\n",
       "    <tr>\n",
       "      <th>2</th>\n",
       "      <td>e6042b9a7.jpg</td>\n",
       "      <td></td>\n",
       "      <td></td>\n",
       "      <td></td>\n",
       "      <td></td>\n",
       "      <td>0</td>\n",
       "    </tr>\n",
       "  </tbody>\n",
       "</table>\n",
       "</div>"
      ],
      "text/plain": [
       "         ImageId def1 def2 def3 def4  has_defect\n",
       "0  e5dc1f3a9.jpg                               0\n",
       "1  e5e22441b.jpg                               0\n",
       "2  e6042b9a7.jpg                               0"
      ]
     },
     "execution_count": 17,
     "metadata": {},
     "output_type": "execute_result"
    }
   ],
   "source": [
    "no_defect.head()"
   ]
  },
  {
   "cell_type": "code",
   "execution_count": 18,
   "id": "879cac16",
   "metadata": {
    "execution": {
     "iopub.execute_input": "2021-12-04T07:51:27.923341Z",
     "iopub.status.busy": "2021-12-04T07:51:27.899216Z",
     "iopub.status.idle": "2021-12-04T07:51:30.360590Z",
     "shell.execute_reply": "2021-12-04T07:51:30.360015Z",
     "shell.execute_reply.started": "2021-12-04T07:38:00.152940Z"
    },
    "papermill": {
     "duration": 2.493673,
     "end_time": "2021-12-04T07:51:30.360763",
     "exception": false,
     "start_time": "2021-12-04T07:51:27.867090",
     "status": "completed"
    },
    "tags": []
   },
   "outputs": [
    {
     "data": {
      "image/png": "[encoded data removed]",
      "text/plain": [
       "<Figure size 1224x576 with 15 Axes>"
      ]
     },
     "metadata": {},
     "output_type": "display_data"
    }
   ],
   "source": [
    "#defect1\n",
    "fig,ax=plt.subplots(3,5,figsize=(17,8))\n",
    "for i in range(3):\n",
    "    x = np.array(Image.open('/kaggle/input/severstal-steel-defect-detection/train_images/' + defect1['ImageId'].iloc[i]).resize((800,128)))\n",
    "    ax[i,0].imshow(x)\n",
    "    x = preprocess(x)\n",
    "    pred = model.predict(np.array( [x,]))[0]\n",
    "    #threshold on probabilities\n",
    "    mask1 = np.empty_like(pred[:,:,0])\n",
    "    mask2 = np.empty_like(pred[:,:,1])\n",
    "    mask3 = np.empty_like(pred[:,:,2])\n",
    "    mask4 = np.empty_like(pred[:,:,3])\n",
    "    mask1 = np.copy(pred[:,:,0])\n",
    "    mask2 = np.copy(pred[:,:,1])\n",
    "    mask3 = np.copy(pred[:,:,2])\n",
    "    mask4 = np.copy(pred[:,:,3])\n",
    "    mask1 = np.where(mask1>=0.5,1,0)\n",
    "    mask2 = np.where(mask2>=0.5,1,0)\n",
    "    mask3 = np.where(mask3>=0.5,1,0)\n",
    "    mask4 = np.where(mask4>=0.5,1,0)\n",
    "    #threshold on areas\n",
    "    area1 = np.sum(mask1)*4 #resizing factor \n",
    "    area2 = np.sum(mask2)*4 \n",
    "    area3 = np.sum(mask3)*4\n",
    "    area4 = np.sum(mask4)*4\n",
    "    if area1<300 or area1>13500:\n",
    "        mask1 = np.zeros((128,800),dtype=np.uint8)\n",
    "    if area2<500 or area2>9000:\n",
    "        mask2 = np.zeros((128,800),dtype=np.uint8)\n",
    "    if area3<900 or area3>140000:\n",
    "        mask3 = np.zeros((128,800),dtype=np.uint8)\n",
    "    if area4<2400 or area4>120000:\n",
    "        mask4 = np.zeros((128,800),dtype=np.uint8)\n",
    "    ax[i,0].set_title(defect1['ImageId'][i])\n",
    "    ax[i,1].imshow(mask1)\n",
    "    ax[i,1].set_title(\"Defect_1\")\n",
    "    ax[i,2].imshow(mask2)\n",
    "    ax[i,2].set_title(\"Defect_2\")\n",
    "    ax[i,3].imshow(mask3)\n",
    "    ax[i,3].set_title(\"Defect_3\")\n",
    "    ax[i,4].imshow(mask4)\n",
    "    ax[i,4].set_title(\"Defect_4\")\n",
    "fig.set_facecolor(\"tan\")\n",
    "plt.show()"
   ]
  },
  {
   "cell_type": "code",
   "execution_count": 19,
   "id": "b2daebac",
   "metadata": {
    "execution": {
     "iopub.execute_input": "2021-12-04T07:51:30.474170Z",
     "iopub.status.busy": "2021-12-04T07:51:30.454964Z",
     "iopub.status.idle": "2021-12-04T07:51:33.633452Z",
     "shell.execute_reply": "2021-12-04T07:51:33.634441Z",
     "shell.execute_reply.started": "2021-12-04T07:39:30.948923Z"
    },
    "papermill": {
     "duration": 3.24247,
     "end_time": "2021-12-04T07:51:33.634655",
     "exception": false,
     "start_time": "2021-12-04T07:51:30.392185",
     "status": "completed"
    },
    "tags": []
   },
   "outputs": [
    {
     "data": {
      "image/png": "[encoded data removed]",
      "text/plain": [
       "<Figure size 1224x576 with 15 Axes>"
      ]
     },
     "metadata": {},
     "output_type": "display_data"
    }
   ],
   "source": [
    "#defect2\n",
    "fig,ax=plt.subplots(3,5,figsize=(17,8))\n",
    "for i in range(3):\n",
    "    x = np.array(Image.open('/kaggle/input/severstal-steel-defect-detection/train_images/' + defect2['ImageId'].iloc[i]).resize((800,128)))\n",
    "    ax[i,0].imshow(x)\n",
    "    x = preprocess(x)\n",
    "    pred = model.predict(np.array( [x,]))[0]\n",
    "    #threshold on probabilities\n",
    "    mask1 = np.empty_like(pred[:,:,0])\n",
    "    mask2 = np.empty_like(pred[:,:,1])\n",
    "    mask3 = np.empty_like(pred[:,:,2])\n",
    "    mask4 = np.empty_like(pred[:,:,3])\n",
    "    mask1 = np.copy(pred[:,:,0])\n",
    "    mask2 = np.copy(pred[:,:,1])\n",
    "    mask3 = np.copy(pred[:,:,2])\n",
    "    mask4 = np.copy(pred[:,:,3])\n",
    "    mask1 = np.where(mask1>=0.5,1,0)\n",
    "    mask2 = np.where(mask2>=0.5,1,0)\n",
    "    mask3 = np.where(mask3>=0.5,1,0)\n",
    "    mask4 = np.where(mask4>=0.5,1,0)\n",
    "    #threshold on areas\n",
    "    area1 = np.sum(mask1)*4 #resizing factor \n",
    "    area2 = np.sum(mask2)*4 \n",
    "    area3 = np.sum(mask3)*4\n",
    "    area4 = np.sum(mask4)*4\n",
    "    if area1<300 or area1>13500:\n",
    "        mask1 = np.zeros((128,800),dtype=np.uint8)\n",
    "    if area2<500 or area2>9000:\n",
    "        mask2 = np.zeros((128,800),dtype=np.uint8)\n",
    "    if area3<900 or area3>140000:\n",
    "        mask3 = np.zeros((128,800),dtype=np.uint8)\n",
    "    if area4<2400 or area4>120000:\n",
    "        mask4 = np.zeros((128,800),dtype=np.uint8)\n",
    "    ax[i,0].set_title(defect2['ImageId'][i])\n",
    "    ax[i,1].imshow(mask1)\n",
    "    ax[i,1].set_title(\"Defect_1\")\n",
    "    ax[i,2].imshow(mask2)\n",
    "    ax[i,2].set_title(\"Defect_2\")\n",
    "    ax[i,3].imshow(mask3)\n",
    "    ax[i,3].set_title(\"Defect_3\")\n",
    "    ax[i,4].imshow(mask4)\n",
    "    ax[i,4].set_title(\"Defect_4\")\n",
    "fig.set_facecolor(\"tan\")\n",
    "plt.show()"
   ]
  },
  {
   "cell_type": "code",
   "execution_count": 20,
   "id": "cbaba703",
   "metadata": {
    "execution": {
     "iopub.execute_input": "2021-12-04T07:51:33.705061Z",
     "iopub.status.busy": "2021-12-04T07:51:33.704014Z",
     "iopub.status.idle": "2021-12-04T07:51:36.132529Z",
     "shell.execute_reply": "2021-12-04T07:51:36.131954Z",
     "shell.execute_reply.started": "2021-12-04T07:41:05.892334Z"
    },
    "papermill": {
     "duration": 2.465417,
     "end_time": "2021-12-04T07:51:36.132693",
     "exception": false,
     "start_time": "2021-12-04T07:51:33.667276",
     "status": "completed"
    },
    "tags": []
   },
   "outputs": [
    {
     "data": {
      "image/png": "[encoded data removed]",
      "text/plain": [
       "<Figure size 1224x576 with 15 Axes>"
      ]
     },
     "metadata": {},
     "output_type": "display_data"
    }
   ],
   "source": [
    "#defect3\n",
    "fig,ax=plt.subplots(3,5,figsize=(17,8))\n",
    "for i in range(3):\n",
    "    x = np.array(Image.open('/kaggle/input/severstal-steel-defect-detection/train_images/' + defect3['ImageId'].iloc[i]).resize((800,128)))\n",
    "    ax[i,0].imshow(x)\n",
    "    x = preprocess(x)\n",
    "    pred = model.predict(np.array( [x,]))[0]\n",
    "    #threshold on probabilities\n",
    "    mask1 = np.empty_like(pred[:,:,0])\n",
    "    mask2 = np.empty_like(pred[:,:,1])\n",
    "    mask3 = np.empty_like(pred[:,:,2])\n",
    "    mask4 = np.empty_like(pred[:,:,3])\n",
    "    mask1 = np.copy(pred[:,:,0])\n",
    "    mask2 = np.copy(pred[:,:,1])\n",
    "    mask3 = np.copy(pred[:,:,2])\n",
    "    mask4 = np.copy(pred[:,:,3])\n",
    "    mask1 = np.where(mask1>=0.5,1,0)\n",
    "    mask2 = np.where(mask2>=0.5,1,0)\n",
    "    mask3 = np.where(mask3>=0.5,1,0)\n",
    "    mask4 = np.where(mask4>=0.5,1,0)\n",
    "    #threshold on areas\n",
    "    area1 = np.sum(mask1)*4 #resizing factor \n",
    "    area2 = np.sum(mask2)*4 \n",
    "    area3 = np.sum(mask3)*4\n",
    "    area4 = np.sum(mask4)*4\n",
    "    if area1<300 or area1>13500:\n",
    "        mask1 = np.zeros((128,800),dtype=np.uint8)\n",
    "    if area2<500 or area2>9000:\n",
    "        mask2 = np.zeros((128,800),dtype=np.uint8)\n",
    "    if area3<900 or area3>140000:\n",
    "        mask3 = np.zeros((128,800),dtype=np.uint8)\n",
    "    if area4<2400 or area4>120000:\n",
    "        mask4 = np.zeros((128,800),dtype=np.uint8)\n",
    "    ax[i,0].set_title(defect3['ImageId'][i])\n",
    "    ax[i,1].imshow(mask1)\n",
    "    ax[i,1].set_title(\"Defect_1\")\n",
    "    ax[i,2].imshow(mask2)\n",
    "    ax[i,2].set_title(\"Defect_2\")\n",
    "    ax[i,3].imshow(mask3)\n",
    "    ax[i,3].set_title(\"Defect_3\")\n",
    "    ax[i,4].imshow(mask4)\n",
    "    ax[i,4].set_title(\"Defect_4\")\n",
    "fig.set_facecolor(\"tan\")\n",
    "plt.show()"
   ]
  },
  {
   "cell_type": "code",
   "execution_count": 21,
   "id": "10fa2af2",
   "metadata": {
    "execution": {
     "iopub.execute_input": "2021-12-04T07:51:36.268520Z",
     "iopub.status.busy": "2021-12-04T07:51:36.264647Z",
     "iopub.status.idle": "2021-12-04T07:51:38.664643Z",
     "shell.execute_reply": "2021-12-04T07:51:38.664046Z",
     "shell.execute_reply.started": "2021-12-04T07:41:39.303680Z"
    },
    "papermill": {
     "duration": 2.497272,
     "end_time": "2021-12-04T07:51:38.664875",
     "exception": false,
     "start_time": "2021-12-04T07:51:36.167603",
     "status": "completed"
    },
    "tags": []
   },
   "outputs": [
    {
     "data": {
      "image/png": "[encoded data removed]",
      "text/plain": [
       "<Figure size 1224x576 with 15 Axes>"
      ]
     },
     "metadata": {},
     "output_type": "display_data"
    }
   ],
   "source": [
    "#defect1\n",
    "fig,ax=plt.subplots(3,5,figsize=(17,8))\n",
    "for i in range(3):\n",
    "    x = np.array(Image.open('/kaggle/input/severstal-steel-defect-detection/train_images/' + defect4['ImageId'].iloc[i]).resize((800,128)))\n",
    "    ax[i,0].imshow(x)\n",
    "    x = preprocess(x)\n",
    "    pred = model.predict(np.array( [x,]))[0]\n",
    "    #threshold on probabilities\n",
    "    mask1 = np.empty_like(pred[:,:,0])\n",
    "    mask2 = np.empty_like(pred[:,:,1])\n",
    "    mask3 = np.empty_like(pred[:,:,2])\n",
    "    mask4 = np.empty_like(pred[:,:,3])\n",
    "    mask1 = np.copy(pred[:,:,0])\n",
    "    mask2 = np.copy(pred[:,:,1])\n",
    "    mask3 = np.copy(pred[:,:,2])\n",
    "    mask4 = np.copy(pred[:,:,3])\n",
    "    mask1 = np.where(mask1>=0.5,1,0)\n",
    "    mask2 = np.where(mask2>=0.5,1,0)\n",
    "    mask3 = np.where(mask3>=0.5,1,0)\n",
    "    mask4 = np.where(mask4>=0.5,1,0)\n",
    "    #threshold on areas\n",
    "    area1 = np.sum(mask1)*4 #resizing factor \n",
    "    area2 = np.sum(mask2)*4 \n",
    "    area3 = np.sum(mask3)*4\n",
    "    area4 = np.sum(mask4)*4\n",
    "    if area1<300 or area1>13500:\n",
    "        mask1 = np.zeros((128,800),dtype=np.uint8)\n",
    "    if area2<500 or area2>9000:\n",
    "        mask2 = np.zeros((128,800),dtype=np.uint8)\n",
    "    if area3<900 or area3>140000:\n",
    "        mask3 = np.zeros((128,800),dtype=np.uint8)\n",
    "    if area4<2400 or area4>120000:\n",
    "        mask4 = np.zeros((128,800),dtype=np.uint8)\n",
    "    ax[i,0].set_title(defect4['ImageId'][i])\n",
    "    ax[i,1].imshow(mask1)\n",
    "    ax[i,1].set_title(\"Defect_1\")\n",
    "    ax[i,2].imshow(mask2)\n",
    "    ax[i,2].set_title(\"Defect_2\")\n",
    "    ax[i,3].imshow(mask3)\n",
    "    ax[i,3].set_title(\"Defect_3\")\n",
    "    ax[i,4].imshow(mask4)\n",
    "    ax[i,4].set_title(\"Defect_4\")\n",
    "fig.set_facecolor(\"tan\")\n",
    "plt.show()"
   ]
  },
  {
   "cell_type": "code",
   "execution_count": 22,
   "id": "68142fb4",
   "metadata": {
    "execution": {
     "iopub.execute_input": "2021-12-04T07:51:38.760814Z",
     "iopub.status.busy": "2021-12-04T07:51:38.748431Z",
     "iopub.status.idle": "2021-12-04T07:51:41.504532Z",
     "shell.execute_reply": "2021-12-04T07:51:41.505075Z",
     "shell.execute_reply.started": "2021-12-04T07:42:49.019232Z"
    },
    "papermill": {
     "duration": 2.801957,
     "end_time": "2021-12-04T07:51:41.505252",
     "exception": false,
     "start_time": "2021-12-04T07:51:38.703295",
     "status": "completed"
    },
    "tags": []
   },
   "outputs": [
    {
     "data": {
      "image/png": "[encoded data removed]",
      "text/plain": [
       "<Figure size 1224x576 with 15 Axes>"
      ]
     },
     "metadata": {},
     "output_type": "display_data"
    }
   ],
   "source": [
    "#defect1\n",
    "fig,ax=plt.subplots(3,5,figsize=(17,8))\n",
    "for i in range(3):\n",
    "    x = np.array(Image.open('/kaggle/input/severstal-steel-defect-detection/train_images/' + no_defect['ImageId'].iloc[i]).resize((800,128)))\n",
    "    ax[i,0].imshow(x)\n",
    "    x = preprocess(x)\n",
    "    pred = model.predict(np.array( [x,]))[0]\n",
    "    #threshold on probabilities\n",
    "    mask1 = np.empty_like(pred[:,:,0])\n",
    "    mask2 = np.empty_like(pred[:,:,1])\n",
    "    mask3 = np.empty_like(pred[:,:,2])\n",
    "    mask4 = np.empty_like(pred[:,:,3])\n",
    "    mask1 = np.copy(pred[:,:,0])\n",
    "    mask2 = np.copy(pred[:,:,1])\n",
    "    mask3 = np.copy(pred[:,:,2])\n",
    "    mask4 = np.copy(pred[:,:,3])\n",
    "    mask1 = np.where(mask1>=0.5,1,0)\n",
    "    mask2 = np.where(mask2>=0.5,1,0)\n",
    "    mask3 = np.where(mask3>=0.5,1,0)\n",
    "    mask4 = np.where(mask4>=0.5,1,0)\n",
    "    #threshold on areas\n",
    "    area1 = np.sum(mask1)*4 #resizing factor \n",
    "    area2 = np.sum(mask2)*4 \n",
    "    area3 = np.sum(mask3)*4\n",
    "    area4 = np.sum(mask4)*4\n",
    "    if area1<300 or area1>13500:\n",
    "        mask1 = np.zeros((128,800),dtype=np.uint8)\n",
    "    if area2<500 or area2>9000:\n",
    "        mask2 = np.zeros((128,800),dtype=np.uint8)\n",
    "    if area3<900 or area3>140000:\n",
    "        mask3 = np.zeros((128,800),dtype=np.uint8)\n",
    "    if area4<2400 or area4>120000:\n",
    "        mask4 = np.zeros((128,800),dtype=np.uint8)\n",
    "    ax[i,0].set_title(no_defect['ImageId'][i])\n",
    "    ax[i,1].imshow(mask1)\n",
    "    ax[i,1].set_title(\"Defect_1\")\n",
    "    ax[i,2].imshow(mask2)\n",
    "    ax[i,2].set_title(\"Defect_2\")\n",
    "    ax[i,3].imshow(mask3)\n",
    "    ax[i,3].set_title(\"Defect_3\")\n",
    "    ax[i,4].imshow(mask4)\n",
    "    ax[i,4].set_title(\"Defect_4\")\n",
    "fig.set_facecolor(\"tan\")\n",
    "plt.show()"
   ]
  }
 ],
 "metadata": {
  "kernelspec": {
   "display_name": "Python 3",
   "language": "python",
   "name": "python3"
  },
  "language_info": {
   "codemirror_mode": {
    "name": "ipython",
    "version": 3
   },
   "file_extension": ".py",
   "mimetype": "text/x-python",
   "name": "python",
   "nbconvert_exporter": "python",
   "pygments_lexer": "ipython3",
   "version": "3.7.12"
  },
  "papermill": {
   "default_parameters": {},
   "duration": 474.951494,
   "end_time": "2021-12-04T07:51:44.762102",
   "environment_variables": {},
   "exception": null,
   "input_path": "__notebook__.ipynb",
   "output_path": "__notebook__.ipynb",
   "parameters": {},
   "start_time": "2021-12-04T07:43:49.810608",
   "version": "2.3.3"
  }
 },
 "nbformat": 4,
 "nbformat_minor": 5
}
