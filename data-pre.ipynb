{
 "cells": [
  {
   "cell_type": "code",
   "execution_count": 1,
   "id": "1c6cc2d9",
   "metadata": {
    "_cell_guid": "b1076dfc-b9ad-4769-8c92-a6c4dae69d19",
    "_uuid": "8f2839f25d086af736a60e9eeb907d3b93b6e0e5",
    "execution": {
     "iopub.execute_input": "2021-12-03T19:54:51.004918Z",
     "iopub.status.busy": "2021-12-03T19:54:50.995519Z",
     "iopub.status.idle": "2021-12-03T19:54:52.129681Z",
     "shell.execute_reply": "2021-12-03T19:54:52.130151Z",
     "shell.execute_reply.started": "2021-12-03T19:26:06.770134Z"
    },
    "papermill": {
     "duration": 1.142802,
     "end_time": "2021-12-03T19:54:52.130540",
     "exception": false,
     "start_time": "2021-12-03T19:54:50.987738",
     "status": "completed"
    },
    "tags": []
   },
   "outputs": [
    {
     "data": {
      "text/html": [
       "<div>\n",
       "<style scoped>\n",
       "    .dataframe tbody tr th:only-of-type {\n",
       "        vertical-align: middle;\n",
       "    }\n",
       "\n",
       "    .dataframe tbody tr th {\n",
       "        vertical-align: top;\n",
       "    }\n",
       "\n",
       "    .dataframe thead th {\n",
       "        text-align: right;\n",
       "    }\n",
       "</style>\n",
       "<table border=\"1\" class=\"dataframe\">\n",
       "  <thead>\n",
       "    <tr style=\"text-align: right;\">\n",
       "      <th></th>\n",
       "      <th>ImageId</th>\n",
       "      <th>def1</th>\n",
       "      <th>def2</th>\n",
       "      <th>def3</th>\n",
       "      <th>def4</th>\n",
       "      <th>has_defect</th>\n",
       "    </tr>\n",
       "  </thead>\n",
       "  <tbody>\n",
       "    <tr>\n",
       "      <th>0</th>\n",
       "      <td>0002cc93b.jpg</td>\n",
       "      <td>29102 12 29346 24 29602 24 29858 24 30114 24 3...</td>\n",
       "      <td></td>\n",
       "      <td></td>\n",
       "      <td></td>\n",
       "      <td>1</td>\n",
       "    </tr>\n",
       "    <tr>\n",
       "      <th>1</th>\n",
       "      <td>00031f466.jpg</td>\n",
       "      <td></td>\n",
       "      <td></td>\n",
       "      <td></td>\n",
       "      <td></td>\n",
       "      <td>0</td>\n",
       "    </tr>\n",
       "    <tr>\n",
       "      <th>2</th>\n",
       "      <td>000418bfc.jpg</td>\n",
       "      <td></td>\n",
       "      <td></td>\n",
       "      <td></td>\n",
       "      <td></td>\n",
       "      <td>0</td>\n",
       "    </tr>\n",
       "    <tr>\n",
       "      <th>3</th>\n",
       "      <td>000789191.jpg</td>\n",
       "      <td></td>\n",
       "      <td></td>\n",
       "      <td></td>\n",
       "      <td></td>\n",
       "      <td>0</td>\n",
       "    </tr>\n",
       "    <tr>\n",
       "      <th>4</th>\n",
       "      <td>0007a71bf.jpg</td>\n",
       "      <td></td>\n",
       "      <td></td>\n",
       "      <td>18661 28 18863 82 19091 110 19347 110 19603 11...</td>\n",
       "      <td></td>\n",
       "      <td>1</td>\n",
       "    </tr>\n",
       "  </tbody>\n",
       "</table>\n",
       "</div>"
      ],
      "text/plain": [
       "         ImageId                                               def1 def2  \\\n",
       "0  0002cc93b.jpg  29102 12 29346 24 29602 24 29858 24 30114 24 3...        \n",
       "1  00031f466.jpg                                                           \n",
       "2  000418bfc.jpg                                                           \n",
       "3  000789191.jpg                                                           \n",
       "4  0007a71bf.jpg                                                           \n",
       "\n",
       "                                                def3 def4  has_defect  \n",
       "0                                                                   1  \n",
       "1                                                                   0  \n",
       "2                                                                   0  \n",
       "3                                                                   0  \n",
       "4  18661 28 18863 82 19091 110 19347 110 19603 11...                1  "
      ]
     },
     "execution_count": 1,
     "metadata": {},
     "output_type": "execute_result"
    }
   ],
   "source": [
    "import numpy as np, pandas as pd, os\n",
    "from itertools import repeat\n",
    "\n",
    "files_path = '/kaggle/input/severstal-steel-defect-detection/train_images'\n",
    "data = pd.read_csv('../input/training/train.csv')\n",
    "#preprocess the data,need to change the format of the table, s.t the table has only a single entry for each image\n",
    "#create new dataframe from dictionary of lists\n",
    "l1=[]#image ids\n",
    "l2=[]#defects\n",
    "labels = [1,2,3,4]\n",
    "for filename in os.listdir(files_path):\n",
    "    l1.extend(repeat(filename,4))\n",
    "    l2.extend(labels)\n",
    "#dictionary\n",
    "dic = {'ImageId':l1,'ClassId':l2}\n",
    "#dataframe\n",
    "df1 = pd.DataFrame(dic)\n",
    "#merge dataframes data and df1\n",
    "df1 = df1.merge(data,how='left',on=['ImageId','ClassId'])\n",
    "#NULL values in  EncodedPixels column represent empty strings\n",
    "df1.fillna('',inplace=True)\n",
    "#pivot the table with imageid as the pk and defects as columns\n",
    "data=pd.pivot_table(df1,index='ImageId',columns='ClassId',aggfunc={'EncodedPixels':np.sum}).astype(str)\n",
    "#reset the index and old index as a column\n",
    "data = data.reset_index()\n",
    "#rename the columns\n",
    "data.columns = ['ImageId','def1','def2','def3','def4'] #each column defi represents the encoded pixels corresponding to defect i\n",
    "\n",
    "#training and testing datasets are created in batches since the complete takes upto 4.9GB of continuous memmory to construct\n",
    "#new column\n",
    "has_defect =[]\n",
    "for i in range(len(data)):\n",
    "    if data['def1'][i]=='' and data['def2'][i]=='' and data['def3'][i]=='' and data['def4'][i]=='':\n",
    "        has_defect.append(0)\n",
    "    else:\n",
    "        has_defect.append(1)\n",
    "data['has_defect']=has_defect\n",
    "data.head()"
   ]
  },
  {
   "cell_type": "code",
   "execution_count": 2,
   "id": "ca3b20ac",
   "metadata": {
    "execution": {
     "iopub.execute_input": "2021-12-03T19:54:52.145346Z",
     "iopub.status.busy": "2021-12-03T19:54:52.144399Z",
     "iopub.status.idle": "2021-12-03T19:54:52.503643Z",
     "shell.execute_reply": "2021-12-03T19:54:52.503041Z",
     "shell.execute_reply.started": "2021-12-03T19:26:16.872206Z"
    },
    "papermill": {
     "duration": 0.36767,
     "end_time": "2021-12-03T19:54:52.503790",
     "exception": false,
     "start_time": "2021-12-03T19:54:52.136120",
     "status": "completed"
    },
    "tags": []
   },
   "outputs": [],
   "source": [
    "data.to_csv('new_data.csv',index=False)"
   ]
  }
 ],
 "metadata": {
  "kernelspec": {
   "display_name": "Python 3",
   "language": "python",
   "name": "python3"
  },
  "language_info": {
   "codemirror_mode": {
    "name": "ipython",
    "version": 3
   },
   "file_extension": ".py",
   "mimetype": "text/x-python",
   "name": "python",
   "nbconvert_exporter": "python",
   "pygments_lexer": "ipython3",
   "version": "3.7.12"
  },
  "papermill": {
   "default_parameters": {},
   "duration": 10.695309,
   "end_time": "2021-12-03T19:54:53.118332",
   "environment_variables": {},
   "exception": null,
   "input_path": "__notebook__.ipynb",
   "output_path": "__notebook__.ipynb",
   "parameters": {},
   "start_time": "2021-12-03T19:54:42.423023",
   "version": "2.3.3"
  }
 },
 "nbformat": 4,
 "nbformat_minor": 5
}
